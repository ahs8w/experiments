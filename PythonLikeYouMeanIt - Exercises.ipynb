{
 "cells": [
  {
   "cell_type": "markdown",
   "metadata": {
    "heading_collapsed": true
   },
   "source": [
    "# Essentials"
   ]
  },
  {
   "cell_type": "markdown",
   "metadata": {
    "heading_collapsed": true,
    "hidden": true
   },
   "source": [
    "## Basics"
   ]
  },
  {
   "cell_type": "code",
   "execution_count": 489,
   "metadata": {
    "hidden": true
   },
   "outputs": [],
   "source": [
    "import math"
   ]
  },
  {
   "cell_type": "code",
   "execution_count": 4,
   "metadata": {
    "hidden": true
   },
   "outputs": [
    {
     "data": {
      "text/plain": [
       "True"
      ]
     },
     "execution_count": 4,
     "metadata": {},
     "output_type": "execute_result"
    }
   ],
   "source": [
    "# Using Python’s syntax for scientific notation, write an expression that verifies that\n",
    "# one trillion divided by one billion is equal to one thousand\n",
    "\n",
    "math.isclose(1e9/1e6,1000)"
   ]
  },
  {
   "cell_type": "code",
   "execution_count": 5,
   "metadata": {
    "hidden": true
   },
   "outputs": [
    {
     "data": {
      "text/plain": [
       "9.025013499434122"
      ]
     },
     "execution_count": 5,
     "metadata": {},
     "output_type": "execute_result"
    }
   ],
   "source": [
    "# Given the function 𝑓(𝑥)=𝑒|𝑥−2|, make use of the math module to compute 𝑓(−0.2)\n",
    "\n",
    "def func(x):\n",
    "    return math.exp(abs(x-2))\n",
    "\n",
    "func(-0.2)"
   ]
  },
  {
   "cell_type": "code",
   "execution_count": 8,
   "metadata": {
    "hidden": true
   },
   "outputs": [
    {
     "data": {
      "text/plain": [
       "True"
      ]
     },
     "execution_count": 8,
     "metadata": {},
     "output_type": "execute_result"
    }
   ],
   "source": [
    "# True/False are instances of bool and int classes\n",
    "isinstance(True, bool) == isinstance(True, int)"
   ]
  },
  {
   "cell_type": "code",
   "execution_count": 15,
   "metadata": {
    "hidden": true
   },
   "outputs": [
    {
     "data": {
      "text/plain": [
       "True"
      ]
     },
     "execution_count": 15,
     "metadata": {},
     "output_type": "execute_result"
    }
   ],
   "source": [
    "# Assuming x is a an integer-type, write a comparison statement that will return True if x is an even number,\n",
    "# and False otherwise. (Hint: recall the purpose of the % operator)\n",
    "\n",
    "def even(x): return not x%2\n",
    "\n",
    "even(8)"
   ]
  },
  {
   "cell_type": "code",
   "execution_count": 19,
   "metadata": {
    "hidden": true
   },
   "outputs": [
    {
     "data": {
      "text/plain": [
       "True"
      ]
     },
     "execution_count": 19,
     "metadata": {},
     "output_type": "execute_result"
    }
   ],
   "source": [
    "# Assuming x and y are both real-valued numbers (i.e. not complex numbers), write a line of\n",
    "# code that will return False if: x and y are within 0.9 of one another, and x is a positive number.\n",
    "\n",
    "def close(x,y):\n",
    "    return not (x>0) & (abs(x-y)<=0.9)\n",
    "\n",
    "close(1,0)"
   ]
  },
  {
   "cell_type": "code",
   "execution_count": 22,
   "metadata": {
    "hidden": true
   },
   "outputs": [
    {
     "name": "stdout",
     "output_type": "stream",
     "text": [
      "    cat    \n",
      "----cat----\n"
     ]
    }
   ],
   "source": [
    "# Use a function that will take the string \"cat\", and returns the string \"   cat    \"\n",
    "# (which has a length of 11, including the letters c, a, t).\n",
    "# Now, change the way you call the function so that it returns \"----cat----\" instead.\n",
    "\n",
    "s = 'cat'\n",
    "print(s.center(11))\n",
    "print(s.center(11, '-'))"
   ]
  },
  {
   "cell_type": "code",
   "execution_count": 23,
   "metadata": {
    "hidden": true
   },
   "outputs": [
    {
     "data": {
      "text/plain": [
       "'I am aware that.spaces.are.a.thing'"
      ]
     },
     "execution_count": 23,
     "metadata": {},
     "output_type": "execute_result"
    }
   ],
   "source": [
    "# Replace the first three periods of this string with a space-character: \"I.am.aware.that.spaces.are.a.thing\"\n",
    "s = \"I.am.aware.that.spaces.are.a.thing\"\n",
    "s.replace('.',' ',3)"
   ]
  },
  {
   "cell_type": "code",
   "execution_count": 24,
   "metadata": {
    "hidden": true
   },
   "outputs": [
    {
     "data": {
      "text/plain": [
       "'basket'"
      ]
     },
     "execution_count": 24,
     "metadata": {},
     "output_type": "execute_result"
    }
   ],
   "source": [
    "# Remove the whitespace from both ends of: \"  basket    \"\n",
    "s = \"  basket    \"\n",
    "s.strip()"
   ]
  },
  {
   "cell_type": "code",
   "execution_count": 25,
   "metadata": {
    "hidden": true
   },
   "outputs": [
    {
     "name": "stdout",
     "output_type": "stream",
     "text": [
      "Hello\n",
      "\tover there\n"
     ]
    }
   ],
   "source": [
    "# Create a string that will print as (the second line begins with a tab-character):\n",
    "s = \"Hello\\n\\tover there\"\n",
    "print(s)"
   ]
  },
  {
   "cell_type": "code",
   "execution_count": 28,
   "metadata": {
    "hidden": true
   },
   "outputs": [
    {
     "data": {
      "text/plain": [
       "[None]"
      ]
     },
     "execution_count": 28,
     "metadata": {},
     "output_type": "execute_result"
    }
   ],
   "source": [
    "# Create a list whose sole entry is the None object.\n",
    "[None]"
   ]
  },
  {
   "cell_type": "code",
   "execution_count": 31,
   "metadata": {
    "hidden": true
   },
   "outputs": [
    {
     "data": {
      "text/plain": [
       "[1, True, 'str', 0.04, (2+4j)]"
      ]
     },
     "execution_count": 31,
     "metadata": {},
     "output_type": "execute_result"
    }
   ],
   "source": [
    "# Assign to the variable k a list that contains an integer, a boolean, and a string, in that order.\n",
    "# Then, add two more entries to the end of the list: a float and a complex number.\n",
    "k = [1,True,'str']\n",
    "k.extend([.04, 2+4j])\n",
    "k"
   ]
  },
  {
   "cell_type": "code",
   "execution_count": 32,
   "metadata": {
    "hidden": true
   },
   "outputs": [
    {
     "data": {
      "text/plain": [
       "['Adam', 'Bob', 'Jack', 'Jackenzie', 'Jane', 'Ryan', 'Zordon']"
      ]
     },
     "execution_count": 32,
     "metadata": {},
     "output_type": "execute_result"
    }
   ],
   "source": [
    "# Alphabetize the list of names: [\"Jane\", \"Adam\", \"Ryan\", \"Bob\", \"Zordon\", \"Jack\", \"Jackenzie\"].\n",
    "names = [\"Jane\", \"Adam\", \"Ryan\", \"Bob\", \"Zordon\", \"Jack\", \"Jackenzie\"]\n",
    "sorted(names)"
   ]
  },
  {
   "cell_type": "code",
   "execution_count": 34,
   "metadata": {
    "hidden": true
   },
   "outputs": [
    {
     "data": {
      "text/plain": [
       "(6, 3)"
      ]
     },
     "execution_count": 34,
     "metadata": {},
     "output_type": "execute_result"
    }
   ],
   "source": [
    "(1,4,6,3)[2:]"
   ]
  },
  {
   "cell_type": "code",
   "execution_count": 57,
   "metadata": {
    "hidden": true
   },
   "outputs": [
    {
     "data": {
      "text/plain": [
       "(8, 6, 4, 2)"
      ]
     },
     "execution_count": 57,
     "metadata": {},
     "output_type": "execute_result"
    }
   ],
   "source": [
    "# Slice or index into x to produce the following:\n",
    "x = (0, 2, 4, 6, 8)\n",
    "\n",
    "# 0\n",
    "x[0]\n",
    "\n",
    "# 8 (using a negative index)\n",
    "x[-1]\n",
    "\n",
    "# (2, 4, 6) (using a slice-object)\n",
    "x[1:-1]\n",
    "\n",
    "# (4,)\n",
    "x[2:3]\n",
    "\n",
    "# 4\n",
    "x[2]\n",
    "\n",
    "# 4 (using a negative index)\n",
    "x[-3]\n",
    "\n",
    "# (6, 8) (using a negative index for the start of the slice)\n",
    "x[-2:]\n",
    "\n",
    "# (2, 6)\n",
    "x[1::2]\n",
    "\n",
    "# (8, 6, 4, 2)\n",
    "x[:0:-1]"
   ]
  },
  {
   "cell_type": "code",
   "execution_count": 65,
   "metadata": {
    "hidden": true
   },
   "outputs": [
    {
     "data": {
      "text/plain": [
       "6"
      ]
     },
     "execution_count": 65,
     "metadata": {},
     "output_type": "execute_result"
    }
   ],
   "source": [
    "# Using the string “blogosphere”, slicing, and repeat-concatenation, create the string:\n",
    "# ‘boopeeboopeeboopeeboopeeboopee’. (hint: how would you slice “blogosphere” to produce “boopee”, think step-size)\n",
    "s = \"blogosphere\"\n",
    "s[::2]*5\n",
    "\n",
    "# Assume that a tuple, x, contains the item 5 in it at least once. Find where that first entry is,\n",
    "# and change it to -5. For example (1, 2, 5, 0, 5) → (1, 2, -5, 0, 5).\n",
    "x = (1, 2, 5, 0, 5)\n",
    "x.index(5)\n",
    "\n",
    "# Given a sequence, x, and a valid negative index for x, neg_index, find the corresponding positive-value\n",
    "# for that index. That is, if x = \"cat\", and neg_index = -3, which is the negative index that would return \"c\",\n",
    "# then you would want to return the index 0.\n",
    "def pos_idx(x, neg_index):\n",
    "    return len(x)+neg_index\n",
    "\n",
    "pos_idx('caterwaul',-3)"
   ]
  },
  {
   "cell_type": "code",
   "execution_count": 70,
   "metadata": {
    "hidden": true
   },
   "outputs": [
    {
     "name": "stdout",
     "output_type": "stream",
     "text": [
      "[2, 4]\n",
      "[0, 1, 55, 3, 4, 5]\n"
     ]
    },
    {
     "data": {
      "text/plain": [
       "(None, None)"
      ]
     },
     "execution_count": 70,
     "metadata": {},
     "output_type": "execute_result"
    }
   ],
   "source": [
    "x = list(range(6))\n",
    "y = x[2::2]\n",
    "x[2] = 55\n",
    "print(y), print(x)\n"
   ]
  },
  {
   "cell_type": "code",
   "execution_count": 94,
   "metadata": {
    "hidden": true
   },
   "outputs": [
    {
     "data": {
      "text/plain": [
       "12"
      ]
     },
     "execution_count": 94,
     "metadata": {},
     "output_type": "execute_result"
    }
   ],
   "source": [
    "(41-3)//3"
   ]
  },
  {
   "cell_type": "code",
   "execution_count": 95,
   "metadata": {
    "hidden": true
   },
   "outputs": [
    {
     "data": {
      "text/plain": [
       "13"
      ]
     },
     "execution_count": 95,
     "metadata": {},
     "output_type": "execute_result"
    }
   ],
   "source": [
    "cnt = 0\n",
    "for i in range(3,41):\n",
    "    if i%3==0: cnt += 1 \n",
    "cnt"
   ]
  },
  {
   "cell_type": "code",
   "execution_count": 96,
   "metadata": {
    "hidden": true
   },
   "outputs": [
    {
     "data": {
      "text/plain": [
       "[(0, 'a'), (1, 'b'), (2, 'c'), (3, 'd')]"
      ]
     },
     "execution_count": 96,
     "metadata": {},
     "output_type": "execute_result"
    }
   ],
   "source": [
    "# Use the iterable \"abcd\", the enumerate function, and tuple-unpacking in a for-loop to create the list:\n",
    "# [(0, 'a'), (1, 'b'), (2, 'c'), (3, 'd')]\n",
    "[c for c in enumerate(\"abcd\")]"
   ]
  },
  {
   "cell_type": "code",
   "execution_count": 108,
   "metadata": {
    "hidden": true
   },
   "outputs": [
    {
     "data": {
      "text/plain": [
       "2.5936887588198103"
      ]
     },
     "execution_count": 108,
     "metadata": {},
     "output_type": "execute_result"
    }
   ],
   "source": [
    "sum(1/(n*2) for n in range(1, 101))"
   ]
  },
  {
   "cell_type": "code",
   "execution_count": 113,
   "metadata": {
    "hidden": true,
    "scrolled": true
   },
   "outputs": [],
   "source": [
    "from itertools import *"
   ]
  },
  {
   "cell_type": "code",
   "execution_count": 118,
   "metadata": {
    "hidden": true
   },
   "outputs": [
    {
     "data": {
      "text/plain": [
       "[(1, 2, 3), (1, 2, 4), (1, 3, 4), (2, 3, 4)]"
      ]
     },
     "execution_count": 118,
     "metadata": {},
     "output_type": "execute_result"
    }
   ],
   "source": [
    "list(combinations([1,2,3,4], 3))"
   ]
  },
  {
   "cell_type": "code",
   "execution_count": 119,
   "metadata": {
    "hidden": true
   },
   "outputs": [
    {
     "data": {
      "text/plain": [
       "[(1, 2, 3),\n",
       " (1, 2, 4),\n",
       " (1, 3, 2),\n",
       " (1, 3, 4),\n",
       " (1, 4, 2),\n",
       " (1, 4, 3),\n",
       " (2, 1, 3),\n",
       " (2, 1, 4),\n",
       " (2, 3, 1),\n",
       " (2, 3, 4),\n",
       " (2, 4, 1),\n",
       " (2, 4, 3),\n",
       " (3, 1, 2),\n",
       " (3, 1, 4),\n",
       " (3, 2, 1),\n",
       " (3, 2, 4),\n",
       " (3, 4, 1),\n",
       " (3, 4, 2),\n",
       " (4, 1, 2),\n",
       " (4, 1, 3),\n",
       " (4, 2, 1),\n",
       " (4, 2, 3),\n",
       " (4, 3, 1),\n",
       " (4, 3, 2)]"
      ]
     },
     "execution_count": 119,
     "metadata": {},
     "output_type": "execute_result"
    }
   ],
   "source": [
    "list(permutations([1,2,3,4], 3))"
   ]
  },
  {
   "cell_type": "markdown",
   "metadata": {
    "heading_collapsed": true,
    "hidden": true
   },
   "source": [
    "## Problems"
   ]
  },
  {
   "cell_type": "code",
   "execution_count": 122,
   "metadata": {
    "hidden": true
   },
   "outputs": [
    {
     "data": {
      "text/plain": [
       "0.2"
      ]
     },
     "execution_count": 122,
     "metadata": {},
     "output_type": "execute_result"
    }
   ],
   "source": [
    "tot = 0\n",
    "pos = 0\n",
    "for combo in combinations([\"apples\", \"bananas\", \"pears\", \"pears\", \"oranges\"],2):\n",
    "    tot += 1\n",
    "    if combo == ('apples', 'pears'): pos += 1\n",
    "pos/tot"
   ]
  },
  {
   "cell_type": "code",
   "execution_count": 123,
   "metadata": {
    "hidden": true
   },
   "outputs": [
    {
     "data": {
      "text/plain": [
       "0.2"
      ]
     },
     "execution_count": 123,
     "metadata": {},
     "output_type": "execute_result"
    }
   ],
   "source": [
    "c = list(combinations([\"apples\", \"bananas\", \"pears\", \"pears\", \"oranges\"],2))\n",
    "c.count(('apples','pears'))/len(c)"
   ]
  },
  {
   "cell_type": "code",
   "execution_count": 6,
   "metadata": {
    "hidden": true
   },
   "outputs": [],
   "source": [
    "def merge_max_mappings(d1,d2):\n",
    "    merged,other = (d1,d2) if len(d1) > len(d2) else (d2,d1)  # choose larger to be the merge base\n",
    "    merged = dict(merged)  # dict() or .copy() to prevent mutating original\n",
    "    for k in other:  # iterating over keys in d2.  What if d1 is small and d2 huge?\n",
    "        if k not in merged or other[k] > merged[k]:\n",
    "            merged[k] = other[k]\n",
    "    return merged"
   ]
  },
  {
   "cell_type": "code",
   "execution_count": 7,
   "metadata": {
    "hidden": true
   },
   "outputs": [
    {
     "data": {
      "text/plain": [
       "{'bananas': 7, 'apples': 6, 'pears': 14, 'grapes': 9}"
      ]
     },
     "execution_count": 7,
     "metadata": {},
     "output_type": "execute_result"
    }
   ],
   "source": [
    "dict1 = {'bananas': 7, 'apples': 3, 'pears': 14}\n",
    "dict2 = {'bananas': 3, 'apples': 6, 'grapes': 9}\n",
    "\n",
    "merge_max_mappings(dict1, dict2)\n",
    "#{'bananas': 7, 'apples': 6, 'pears': 14, 'grapes': 9}"
   ]
  },
  {
   "cell_type": "code",
   "execution_count": 8,
   "metadata": {
    "hidden": true
   },
   "outputs": [],
   "source": [
    "# handle any number of dicts\n",
    "def merge_max_mappings(*dicts):\n",
    "    merged = dict()  # empty dict\n",
    "    for d in dicts:\n",
    "        for k in d:\n",
    "            if k not in merged or d[k] > merged[k]:\n",
    "                merged[k] = d[k]\n",
    "    return merged"
   ]
  },
  {
   "cell_type": "code",
   "execution_count": 13,
   "metadata": {
    "hidden": true
   },
   "outputs": [
    {
     "data": {
      "text/plain": [
       "{'bananas': 7,\n",
       " 'apples': 6,\n",
       " 'pears': 14,\n",
       " 'grapes': 9,\n",
       " 'rambutans': 4,\n",
       " 'peaches': 2}"
      ]
     },
     "execution_count": 13,
     "metadata": {},
     "output_type": "execute_result"
    }
   ],
   "source": [
    "dict1 = {'bananas': 7, 'apples': 3, 'pears': 14}\n",
    "dict2 = {'bananas': 3, 'apples': 6, 'grapes': 9}\n",
    "dict3 = {'rambutans': 4, 'peaches': 2}\n",
    "\n",
    "merge_max_mappings(dict1, dict2, dict3)\n",
    "#{'bananas': 7, 'apples': 6, 'pears': 14, 'grapes': 9}"
   ]
  },
  {
   "cell_type": "code",
   "execution_count": 11,
   "metadata": {
    "hidden": true,
    "scrolled": true
   },
   "outputs": [
    {
     "data": {
      "text/plain": [
       "{'apples': 3, 'peaches': 2}"
      ]
     },
     "execution_count": 11,
     "metadata": {},
     "output_type": "execute_result"
    }
   ],
   "source": [
    "merge_max_mappings({'apples': 3, 'peaches': 2})"
   ]
  },
  {
   "cell_type": "code",
   "execution_count": 30,
   "metadata": {
    "hidden": true
   },
   "outputs": [],
   "source": [
    "def is_palindrome(s):\n",
    "    '''case insensitive and only regards alpha-numeric characters'''\n",
    "#     st = ''\n",
    "#     for c in s.lower():\n",
    "#         if c.isalnum(): st += c\n",
    "    st = \"\".join(c for c in s.lower() if c.isalnum())\n",
    "    return st == st[::-1]"
   ]
  },
  {
   "cell_type": "code",
   "execution_count": 31,
   "metadata": {
    "hidden": true
   },
   "outputs": [],
   "source": [
    "# tests\n",
    "assert(is_palindrome(\"Step on no pets!\"))\n",
    "assert(is_palindrome(\"'Tis not a palindrome\") is False)\n",
    "assert(is_palindrome(\"Hi, I am Mai Ih\"))"
   ]
  },
  {
   "cell_type": "code",
   "execution_count": null,
   "metadata": {
    "hidden": true
   },
   "outputs": [],
   "source": []
  },
  {
   "cell_type": "code",
   "execution_count": 51,
   "metadata": {
    "hidden": true
   },
   "outputs": [],
   "source": [
    "def within_margin_percentage(desired, actual, margin):\n",
    "    \"\"\" Compute the percentage of values that fall within\n",
    "        a margin of error of the desired values\n",
    "\n",
    "        Parameters\n",
    "        ----------\n",
    "        desired: List[float]\n",
    "            The desired metrics\n",
    "\n",
    "        actual: List[float]\n",
    "            The corresponding actual metrics.\n",
    "            Assume `len(actual) == len(desired)`\n",
    "\n",
    "        margin: float\n",
    "            The allowed margin of error\n",
    "\n",
    "        Returns\n",
    "        -------\n",
    "        float\n",
    "            The fraction of values where |actual - desired| <= margin\n",
    "    \"\"\"\n",
    "\n",
    "#     good = 0\n",
    "#     for d,a in zip(desired,actual):\n",
    "#         if (abs(d-a) <= margin):\n",
    "#             good += 1\n",
    "#     return good / len(actual)\n",
    "    good = sum((abs(d-a) <= margin for d,a in zip(desired,actual)))\n",
    "\n",
    "    return (good / len(actual)) if actual else 1.0"
   ]
  },
  {
   "cell_type": "code",
   "execution_count": 52,
   "metadata": {
    "hidden": true
   },
   "outputs": [],
   "source": [
    "assert(within_margin_percentage(desired=[10.0, 5.0, 8.0, 3.0, 2.0],actual=[10.3, 5.2, 8.4, 3.0, 1.2],margin=0.5)==0.8)\n",
    "assert(within_margin_percentage([],[],0.1)==1.0)"
   ]
  },
  {
   "cell_type": "code",
   "execution_count": 83,
   "metadata": {
    "hidden": true
   },
   "outputs": [],
   "source": [
    "def difference_fanout(l, fanout):\n",
    "    \"\"\" Return a list of differences for\n",
    "        each value with its following terms\n",
    "\n",
    "        Parameters\n",
    "        ----------\n",
    "        l: List[Number]\n",
    "            Input list of base numbers.\n",
    "\n",
    "        fanout: int\n",
    "            Number of neighbors to compute differences against.\n",
    "\n",
    "        Returns\n",
    "        -------\n",
    "        List[List[Number]]\n",
    "    \"\"\"\n",
    "#     res = []\n",
    "#     for i,v in enumerate(l):\n",
    "#         res.append([j-v for j in l[i+1:i+1+fanout]])\n",
    "#     return res\n",
    "\n",
    "    return [[j-v for j in l[i+1:i+1+fanout]] for i,v in enumerate(l)]"
   ]
  },
  {
   "cell_type": "code",
   "execution_count": 84,
   "metadata": {
    "hidden": true
   },
   "outputs": [],
   "source": [
    "assert(difference_fanout([3, 2, 4, 6, 1], 3) == [[-1, 1, 3], [2, 4, -1], [2, -3], [-5], []])\n",
    "assert(difference_fanout([], 1) == [])\n",
    "assert(difference_fanout([1], 1) == [[]])"
   ]
  },
  {
   "cell_type": "code",
   "execution_count": 86,
   "metadata": {
    "hidden": true
   },
   "outputs": [],
   "source": [
    "def general_fanout(l, fanout, op):\n",
    "    \"\"\" Return a list of differences for\n",
    "        each value with its following terms\n",
    "\n",
    "        Parameters\n",
    "        ----------\n",
    "        l: List[Number]\n",
    "            Input list of base numbers.\n",
    "\n",
    "        fanout: int\n",
    "            Number of neighbors to compute differences against.\n",
    "\n",
    "        Returns\n",
    "        -------\n",
    "        List[List[Number]]\n",
    "    \"\"\"\n",
    "#     res = []\n",
    "#     for i,v in enumerate(l):\n",
    "#         res.append([j-v for j in l[i+1:i+1+fanout]])\n",
    "#     return res\n",
    "\n",
    "    return [[op(j,v) for j in l[i+1:i+1+fanout]] for i,v in enumerate(l)]"
   ]
  },
  {
   "cell_type": "code",
   "execution_count": 90,
   "metadata": {
    "hidden": true
   },
   "outputs": [],
   "source": [
    "assert(general_fanout([3, 2, 4, 6, 1], 3, lambda x,y: x-y) == difference_fanout([3, 2, 4, 6, 1], 3))"
   ]
  },
  {
   "cell_type": "code",
   "execution_count": 111,
   "metadata": {
    "hidden": true
   },
   "outputs": [],
   "source": [
    "def int_to_string(item):\n",
    "    int_map = {'0':'zero', '1':'one', '2':'two', '3':'three', '4':'four', '5':'five',\n",
    "               '6':'six', '7':'seven', '8':'eight', '9':'nine', '-':'neg'}\n",
    "    return \"-\".join([int_map[i] for i in str(item)])"
   ]
  },
  {
   "cell_type": "code",
   "execution_count": 125,
   "metadata": {
    "hidden": true
   },
   "outputs": [],
   "source": [
    "def concat_to_str(l):\n",
    "    res = []\n",
    "    for item in l:\n",
    "        if isinstance(item, bool):\n",
    "            res.append(\"<OTHER>\")\n",
    "        elif isinstance(item, int):  # gotcha: True is an int!!\n",
    "            res.append(int_to_string(item))\n",
    "        elif isinstance(item, float):\n",
    "            res.append(int_to_string(int(item))+\" and float\")\n",
    "        elif isinstance(item, str):\n",
    "            res.append(item)\n",
    "        else:\n",
    "            res.append(\"<OTHER>\")\n",
    "    return \" | \".join(res)"
   ]
  },
  {
   "cell_type": "code",
   "execution_count": 131,
   "metadata": {
    "hidden": true
   },
   "outputs": [],
   "source": [
    "# cleaner alternative\n",
    "def item_to_string(item):\n",
    "    if isinstance(item, bool): return \"<OTHER>\"\n",
    "    if isinstance(item, int): return int_to_string(item)\n",
    "    if isinstance(item, float): return int_to_string(int(item))+\" and float\"\n",
    "    if isinstance(item, str): return item\n",
    "    return \"<OTHER>\"\n",
    "\n",
    "def concat_to_str(l):\n",
    "    return \" | \".join(item_to_string(i) for i in l)"
   ]
  },
  {
   "cell_type": "code",
   "execution_count": 132,
   "metadata": {
    "hidden": true,
    "scrolled": true
   },
   "outputs": [],
   "source": [
    "assert(concat_to_str([12,-14.23,\"hello\", True,\"Aha\", 10.1, None, 5]) == \n",
    "       'one-two | neg-one-four and float | hello | <OTHER> | Aha | one-zero and float | <OTHER> | five')"
   ]
  },
  {
   "cell_type": "markdown",
   "metadata": {
    "heading_collapsed": true
   },
   "source": [
    "# Numpy"
   ]
  },
  {
   "cell_type": "code",
   "execution_count": 133,
   "metadata": {
    "hidden": true
   },
   "outputs": [],
   "source": [
    "import numpy as np"
   ]
  },
  {
   "cell_type": "markdown",
   "metadata": {
    "heading_collapsed": true,
    "hidden": true
   },
   "source": [
    "## Multi-Dimensional Indexing"
   ]
  },
  {
   "cell_type": "code",
   "execution_count": 168,
   "metadata": {
    "hidden": true
   },
   "outputs": [
    {
     "data": {
      "text/plain": [
       "array([[[ 0,  1,  2],\n",
       "        [ 3,  4,  5],\n",
       "        [ 6,  7,  8]],\n",
       "\n",
       "       [[ 9, 10, 11],\n",
       "        [12, 13, 14],\n",
       "        [15, 16, 17]],\n",
       "\n",
       "       [[18, 19, 20],\n",
       "        [21, 22, 23],\n",
       "        [24, 25, 26]]])"
      ]
     },
     "execution_count": 168,
     "metadata": {},
     "output_type": "execute_result"
    }
   ],
   "source": [
    "arr = np.array(range(27)).reshape(3,3,3); arr"
   ]
  },
  {
   "cell_type": "code",
   "execution_count": 163,
   "metadata": {
    "hidden": true
   },
   "outputs": [
    {
     "data": {
      "text/plain": [
       "array([[11, 10,  9],\n",
       "       [14, 13, 12],\n",
       "       [17, 16, 15]])"
      ]
     },
     "execution_count": 163,
     "metadata": {},
     "output_type": "execute_result"
    }
   ],
   "source": [
    "#1\n",
    "arr[:,:,2]\n",
    "# array([[ 2,  5,  8],\n",
    "#        [11, 14, 17],\n",
    "#        [20, 23, 26]])\n",
    "\n",
    "#2\n",
    "arr[0:2,1,:]\n",
    "# array([[ 3,  4,  5],\n",
    "#        [12, 13, 14]])\n",
    "\n",
    "#3\n",
    "arr[0,0:2,2]\n",
    "# array([2, 5])\n",
    "\n",
    "#4\n",
    "arr[1,:,::-1]\n",
    "# array([[11, 10,  9],\n",
    "#        [14, 13, 12],\n",
    "#        [17, 16, 15]])"
   ]
  },
  {
   "cell_type": "code",
   "execution_count": 171,
   "metadata": {
    "hidden": true
   },
   "outputs": [
    {
     "data": {
      "text/plain": [
       "array([[0, 1, 2],\n",
       "       [3, 4, 5],\n",
       "       [6, 7, 8]])"
      ]
     },
     "execution_count": 171,
     "metadata": {},
     "output_type": "execute_result"
    }
   ],
   "source": [
    "x = np.array(range(9)).reshape(3,3);\n",
    "x"
   ]
  },
  {
   "cell_type": "code",
   "execution_count": 182,
   "metadata": {
    "hidden": true
   },
   "outputs": [
    {
     "data": {
      "text/plain": [
       "array([[0, 3, 6],\n",
       "       [1, 4, 7],\n",
       "       [2, 5, 8]])"
      ]
     },
     "execution_count": 182,
     "metadata": {},
     "output_type": "execute_result"
    }
   ],
   "source": [
    "np.rollaxis(x,1)"
   ]
  },
  {
   "cell_type": "code",
   "execution_count": 188,
   "metadata": {
    "hidden": true
   },
   "outputs": [
    {
     "data": {
      "text/plain": [
       "array([[2, 5, 8],\n",
       "       [1, 4, 7],\n",
       "       [0, 3, 6]])"
      ]
     },
     "execution_count": 188,
     "metadata": {},
     "output_type": "execute_result"
    }
   ],
   "source": [
    "np.rot90(x)"
   ]
  },
  {
   "cell_type": "code",
   "execution_count": 193,
   "metadata": {
    "hidden": true
   },
   "outputs": [
    {
     "data": {
      "text/plain": [
       "array([[2, 1, 0],\n",
       "       [5, 4, 3],\n",
       "       [8, 7, 6]])"
      ]
     },
     "execution_count": 193,
     "metadata": {},
     "output_type": "execute_result"
    }
   ],
   "source": [
    "np.fliplr(x)"
   ]
  },
  {
   "cell_type": "code",
   "execution_count": 199,
   "metadata": {
    "hidden": true
   },
   "outputs": [
    {
     "data": {
      "text/plain": [
       "(3, 3, 1)"
      ]
     },
     "execution_count": 199,
     "metadata": {},
     "output_type": "execute_result"
    }
   ],
   "source": [
    "np.expand_dims(x,2).shape"
   ]
  },
  {
   "cell_type": "code",
   "execution_count": 215,
   "metadata": {
    "hidden": true
   },
   "outputs": [
    {
     "data": {
      "text/plain": [
       "array([[7, 8, 0],\n",
       "       [1, 2, 3],\n",
       "       [4, 5, 6]])"
      ]
     },
     "execution_count": 215,
     "metadata": {},
     "output_type": "execute_result"
    }
   ],
   "source": [
    "np.roll(x, 2)"
   ]
  },
  {
   "cell_type": "code",
   "execution_count": 231,
   "metadata": {
    "hidden": true
   },
   "outputs": [
    {
     "data": {
      "text/plain": [
       "array([[0, 1, 2],\n",
       "       [3, 4, 5],\n",
       "       [6, 7, 8]])"
      ]
     },
     "execution_count": 231,
     "metadata": {},
     "output_type": "execute_result"
    }
   ],
   "source": [
    "x"
   ]
  },
  {
   "cell_type": "code",
   "execution_count": 230,
   "metadata": {
    "hidden": true
   },
   "outputs": [
    {
     "data": {
      "text/plain": [
       "array([[0, 1, 2],\n",
       "       [3, 4, 5],\n",
       "       [6, 7, 8]])"
      ]
     },
     "execution_count": 230,
     "metadata": {},
     "output_type": "execute_result"
    }
   ],
   "source": [
    "x.shape = (3,-1)\n",
    "x"
   ]
  },
  {
   "cell_type": "code",
   "execution_count": 243,
   "metadata": {
    "hidden": true
   },
   "outputs": [
    {
     "data": {
      "text/plain": [
       "array([[0, 1, 2],\n",
       "       [3, 4, 5],\n",
       "       [6, 7, 8]], dtype=int8)"
      ]
     },
     "execution_count": 243,
     "metadata": {},
     "output_type": "execute_result"
    }
   ],
   "source": [
    "x = x.astype(np.int8)\n",
    "x"
   ]
  },
  {
   "cell_type": "code",
   "execution_count": 266,
   "metadata": {
    "hidden": true
   },
   "outputs": [
    {
     "data": {
      "text/plain": [
       "array([[38,  4, 10, 12],\n",
       "       [99, 14, 60, 31],\n",
       "       [20, 76, 47,  9]])"
      ]
     },
     "execution_count": 266,
     "metadata": {},
     "output_type": "execute_result"
    }
   ],
   "source": [
    "y = np.random.randint(0,100,size=(3,4)); y"
   ]
  },
  {
   "cell_type": "code",
   "execution_count": 269,
   "metadata": {
    "hidden": true
   },
   "outputs": [
    {
     "data": {
      "text/plain": [
       "[((0, 0), 38),\n",
       " ((0, 1), 4),\n",
       " ((0, 2), 10),\n",
       " ((0, 3), 12),\n",
       " ((1, 0), 99),\n",
       " ((1, 1), 14),\n",
       " ((1, 2), 60),\n",
       " ((1, 3), 31),\n",
       " ((2, 0), 20),\n",
       " ((2, 1), 76),\n",
       " ((2, 2), 47),\n",
       " ((2, 3), 9)]"
      ]
     },
     "execution_count": 269,
     "metadata": {},
     "output_type": "execute_result"
    }
   ],
   "source": [
    "[i for i in np.ndenumerate(y)]"
   ]
  },
  {
   "cell_type": "code",
   "execution_count": 271,
   "metadata": {
    "hidden": true
   },
   "outputs": [
    {
     "data": {
      "text/plain": [
       "array([[[[ 0,  1],\n",
       "         [ 2,  3]],\n",
       "\n",
       "        [[ 4,  5],\n",
       "         [ 6,  7]]],\n",
       "\n",
       "\n",
       "       [[[ 8,  9],\n",
       "         [10, 11]],\n",
       "\n",
       "        [[12, 13],\n",
       "         [14, 15]]]])"
      ]
     },
     "execution_count": 271,
     "metadata": {},
     "output_type": "execute_result"
    }
   ],
   "source": [
    "y = np.arange(16).reshape(2,2,2,2); y"
   ]
  },
  {
   "cell_type": "code",
   "execution_count": 275,
   "metadata": {
    "hidden": true
   },
   "outputs": [
    {
     "data": {
      "text/plain": [
       "array([[[[ 0,  8],\n",
       "         [ 4, 12]],\n",
       "\n",
       "        [[ 2, 10],\n",
       "         [ 6, 14]]],\n",
       "\n",
       "\n",
       "       [[[ 1,  9],\n",
       "         [ 5, 13]],\n",
       "\n",
       "        [[ 3, 11],\n",
       "         [ 7, 15]]]])"
      ]
     },
     "execution_count": 275,
     "metadata": {},
     "output_type": "execute_result"
    }
   ],
   "source": [
    "y.flatten().reshape(2,2,2,2,order='F')"
   ]
  },
  {
   "cell_type": "code",
   "execution_count": 277,
   "metadata": {
    "hidden": true
   },
   "outputs": [
    {
     "data": {
      "text/plain": [
       "array([ 0,  1,  2,  3,  4,  5,  6,  7,  8,  9, 10, 11, 12, 13, 14, 15])"
      ]
     },
     "execution_count": 277,
     "metadata": {},
     "output_type": "execute_result"
    }
   ],
   "source": [
    "y.ravel()"
   ]
  },
  {
   "cell_type": "markdown",
   "metadata": {
    "heading_collapsed": true,
    "hidden": true
   },
   "source": [
    "## Vectorization"
   ]
  },
  {
   "cell_type": "code",
   "execution_count": 278,
   "metadata": {
    "hidden": true,
    "scrolled": true
   },
   "outputs": [
    {
     "data": {
      "text/plain": [
       "array([[ 0,  1,  2,  3],\n",
       "       [ 4,  5,  6,  7],\n",
       "       [ 8,  9, 10, 11],\n",
       "       [12, 13, 14, 15]])"
      ]
     },
     "execution_count": 278,
     "metadata": {},
     "output_type": "execute_result"
    }
   ],
   "source": [
    "x = np.arange(16).reshape(4,4); x"
   ]
  },
  {
   "cell_type": "code",
   "execution_count": 285,
   "metadata": {
    "hidden": true
   },
   "outputs": [
    {
     "data": {
      "text/plain": [
       "array([2.07944154, 2.30258509])"
      ]
     },
     "execution_count": 285,
     "metadata": {},
     "output_type": "execute_result"
    }
   ],
   "source": [
    "# Take the natural-logarithm of the 1st and 3rd element in the 3rd-row of x, producing a shape-(2,) result.\n",
    "np.log(x[2,0::2])"
   ]
  },
  {
   "cell_type": "code",
   "execution_count": 286,
   "metadata": {
    "hidden": true
   },
   "outputs": [
    {
     "data": {
      "text/plain": [
       "array([[[[ 0,  1],\n",
       "         [ 2,  3]],\n",
       "\n",
       "        [[ 4,  5],\n",
       "         [ 6,  7]]],\n",
       "\n",
       "\n",
       "       [[[ 8,  9],\n",
       "         [10, 11]],\n",
       "\n",
       "        [[12, 13],\n",
       "         [14, 15]]]])"
      ]
     },
     "execution_count": 286,
     "metadata": {},
     "output_type": "execute_result"
    }
   ],
   "source": [
    "# Add the four quadrants of x, producing a shape-(2, 2) output.\n",
    "y = x.reshape(2,2,2,2); y"
   ]
  },
  {
   "cell_type": "code",
   "execution_count": 297,
   "metadata": {
    "hidden": true
   },
   "outputs": [
    {
     "data": {
      "text/plain": [
       "array([[10, 18],\n",
       "       [42, 50]])"
      ]
     },
     "execution_count": 297,
     "metadata": {},
     "output_type": "execute_result"
    }
   ],
   "source": [
    "y.sum(axis=(1,3))"
   ]
  },
  {
   "cell_type": "code",
   "execution_count": 298,
   "metadata": {
    "hidden": true
   },
   "outputs": [],
   "source": [
    "images = np.random.rand(100, 32, 32, 3)"
   ]
  },
  {
   "cell_type": "code",
   "execution_count": 326,
   "metadata": {
    "hidden": true
   },
   "outputs": [
    {
     "data": {
      "text/plain": [
       "(32, 32, 3)"
      ]
     },
     "execution_count": 326,
     "metadata": {},
     "output_type": "execute_result"
    }
   ],
   "source": [
    "# The average 32x32 RGB image.\n",
    "np.mean(images, axis=0).shape"
   ]
  },
  {
   "cell_type": "code",
   "execution_count": 308,
   "metadata": {
    "hidden": true
   },
   "outputs": [
    {
     "data": {
      "text/plain": [
       "153592.16320797126"
      ]
     },
     "execution_count": 308,
     "metadata": {},
     "output_type": "execute_result"
    }
   ],
   "source": [
    "# The total sum of all the values in the array.\n",
    "np.sum(images)"
   ]
  },
  {
   "cell_type": "code",
   "execution_count": 327,
   "metadata": {
    "hidden": true
   },
   "outputs": [
    {
     "data": {
      "text/plain": [
       "(100,)"
      ]
     },
     "execution_count": 327,
     "metadata": {},
     "output_type": "execute_result"
    }
   ],
   "source": [
    "# The minimum blue value, respective to each image.\n",
    "np.min(images[:,:,:,-1], axis=(1,2)).shape"
   ]
  },
  {
   "cell_type": "code",
   "execution_count": 328,
   "metadata": {
    "hidden": true
   },
   "outputs": [
    {
     "data": {
      "text/plain": [
       "(32, 32)"
      ]
     },
     "execution_count": 328,
     "metadata": {},
     "output_type": "execute_result"
    }
   ],
   "source": [
    "# The standard deviation among all the RGB values in all the images,\n",
    "# respective to each pixel position (thus you should produce a shape-(32, 32) array of values).\n",
    "np.std(images, axis=(0,3)).shape"
   ]
  },
  {
   "cell_type": "code",
   "execution_count": 330,
   "metadata": {
    "hidden": true
   },
   "outputs": [
    {
     "data": {
      "text/plain": [
       "(100,)"
      ]
     },
     "execution_count": 330,
     "metadata": {},
     "output_type": "execute_result"
    }
   ],
   "source": [
    "# The maximum red-value in the top-left quadrant, respective to each image.\n",
    "np.max(images[:,:16,:16,0], axis=(1,2)).shape"
   ]
  },
  {
   "cell_type": "markdown",
   "metadata": {
    "heading_collapsed": true,
    "hidden": true
   },
   "source": [
    "## Broadcasting"
   ]
  },
  {
   "cell_type": "code",
   "execution_count": 331,
   "metadata": {
    "hidden": true
   },
   "outputs": [],
   "source": [
    "# 10000 points\n",
    "x = np.random.rand(10000,2)"
   ]
  },
  {
   "cell_type": "code",
   "execution_count": 333,
   "metadata": {
    "hidden": true
   },
   "outputs": [
    {
     "data": {
      "text/plain": [
       "array([0.49807264, 0.49818458])"
      ]
     },
     "execution_count": 333,
     "metadata": {},
     "output_type": "execute_result"
    }
   ],
   "source": [
    "# center of mass of points\n",
    "com = x.mean(axis=0); com"
   ]
  },
  {
   "cell_type": "code",
   "execution_count": 334,
   "metadata": {
    "hidden": true
   },
   "outputs": [
    {
     "data": {
      "text/plain": [
       "array([[-0.33284984, -0.13827294],\n",
       "       [ 0.36698238, -0.36215213],\n",
       "       [ 0.43677797,  0.17532608],\n",
       "       ...,\n",
       "       [-0.49619379, -0.08871315],\n",
       "       [-0.10373032,  0.41591793],\n",
       "       [-0.41766559,  0.43301922]])"
      ]
     },
     "execution_count": 334,
     "metadata": {},
     "output_type": "execute_result"
    }
   ],
   "source": [
    "# points relative to center of mass\n",
    "x - com"
   ]
  },
  {
   "cell_type": "code",
   "execution_count": 374,
   "metadata": {
    "hidden": true
   },
   "outputs": [
    {
     "data": {
      "text/plain": [
       "array([[[ 0,  1,  2,  3],\n",
       "        [ 4,  5,  6,  7],\n",
       "        [ 8,  9, 10, 11]],\n",
       "\n",
       "       [[12, 13, 14, 15],\n",
       "        [16, 17, 18, 19],\n",
       "        [20, 21, 22, 23]]])"
      ]
     },
     "execution_count": 374,
     "metadata": {},
     "output_type": "execute_result"
    }
   ],
   "source": [
    "# Normalize x such that each of its rows, within each sheet, will sum to a value of 1.\n",
    "# Make use of the sequential function np.sum, which should be called only once, and broadcast-division.\n",
    "x = np.arange(24).reshape(2,3,4); x"
   ]
  },
  {
   "cell_type": "code",
   "execution_count": 375,
   "metadata": {
    "hidden": true
   },
   "outputs": [
    {
     "data": {
      "text/plain": [
       "array([[[ 6],\n",
       "        [22],\n",
       "        [38]],\n",
       "\n",
       "       [[54],\n",
       "        [70],\n",
       "        [86]]])"
      ]
     },
     "execution_count": 375,
     "metadata": {},
     "output_type": "execute_result"
    }
   ],
   "source": [
    "norm = np.sum(x, axis=(2), keepdims=True); norm"
   ]
  },
  {
   "cell_type": "code",
   "execution_count": 377,
   "metadata": {
    "hidden": true
   },
   "outputs": [
    {
     "data": {
      "text/plain": [
       "array([[[0.        , 0.16666667, 0.33333333, 0.5       ],\n",
       "        [0.18181818, 0.22727273, 0.27272727, 0.31818182],\n",
       "        [0.21052632, 0.23684211, 0.26315789, 0.28947368]],\n",
       "\n",
       "       [[0.22222222, 0.24074074, 0.25925926, 0.27777778],\n",
       "        [0.22857143, 0.24285714, 0.25714286, 0.27142857],\n",
       "        [0.23255814, 0.24418605, 0.25581395, 0.26744186]]])"
      ]
     },
     "execution_count": 377,
     "metadata": {},
     "output_type": "execute_result"
    }
   ],
   "source": [
    "normed_x = x/norm; normed_x"
   ]
  },
  {
   "cell_type": "code",
   "execution_count": 378,
   "metadata": {
    "hidden": true
   },
   "outputs": [
    {
     "data": {
      "text/plain": [
       "array([[1., 1., 1.],\n",
       "       [1., 1., 1.]])"
      ]
     },
     "execution_count": 378,
     "metadata": {},
     "output_type": "execute_result"
    }
   ],
   "source": [
    "normed_x.sum(axis=2)"
   ]
  },
  {
   "cell_type": "code",
   "execution_count": 358,
   "metadata": {
    "hidden": true
   },
   "outputs": [],
   "source": [
    "# Using the sequential function np.max and broadcasting,\n",
    "# normalize images such that the largest value within each color-channel of each image is 1.\n",
    "images = np.random.rand(500, 48, 48, 3)"
   ]
  },
  {
   "cell_type": "code",
   "execution_count": 379,
   "metadata": {
    "hidden": true
   },
   "outputs": [
    {
     "data": {
      "text/plain": [
       "(500, 1, 1, 3)"
      ]
     },
     "execution_count": 379,
     "metadata": {},
     "output_type": "execute_result"
    }
   ],
   "source": [
    "norm = np.max(images, axis=(1,2), keepdims=True)\n",
    "norm.shape"
   ]
  },
  {
   "cell_type": "code",
   "execution_count": 380,
   "metadata": {
    "hidden": true
   },
   "outputs": [
    {
     "data": {
      "text/plain": [
       "(500, 48, 48, 3)"
      ]
     },
     "execution_count": 380,
     "metadata": {},
     "output_type": "execute_result"
    }
   ],
   "source": [
    "norm_images = images / norm\n",
    "norm_images.shape"
   ]
  },
  {
   "cell_type": "code",
   "execution_count": 382,
   "metadata": {
    "hidden": true
   },
   "outputs": [
    {
     "data": {
      "text/plain": [
       "array([[1., 1., 1.],\n",
       "       [1., 1., 1.],\n",
       "       [1., 1., 1.],\n",
       "       ...,\n",
       "       [1., 1., 1.],\n",
       "       [1., 1., 1.],\n",
       "       [1., 1., 1.]])"
      ]
     },
     "execution_count": 382,
     "metadata": {},
     "output_type": "execute_result"
    }
   ],
   "source": [
    "norm_images.max(axis=(1,2))"
   ]
  },
  {
   "cell_type": "markdown",
   "metadata": {
    "heading_collapsed": true,
    "hidden": true
   },
   "source": [
    "## Basic Indexing"
   ]
  },
  {
   "cell_type": "code",
   "execution_count": 399,
   "metadata": {
    "hidden": true,
    "scrolled": false
   },
   "outputs": [
    {
     "data": {
      "text/plain": [
       "array([[ 0,  1,  2,  3],\n",
       "       [ 4,  5,  6,  7],\n",
       "       [ 8,  9, 10, 11]])"
      ]
     },
     "execution_count": 399,
     "metadata": {},
     "output_type": "execute_result"
    }
   ],
   "source": [
    "x = np.arange(12).reshape(3,4); x"
   ]
  },
  {
   "cell_type": "code",
   "execution_count": 384,
   "metadata": {
    "hidden": true
   },
   "outputs": [
    {
     "data": {
      "text/plain": [
       "True"
      ]
     },
     "execution_count": 384,
     "metadata": {},
     "output_type": "execute_result"
    }
   ],
   "source": [
    "a = x\n",
    "np.shares_memory(a,x)"
   ]
  },
  {
   "cell_type": "code",
   "execution_count": 385,
   "metadata": {
    "hidden": true
   },
   "outputs": [
    {
     "data": {
      "text/plain": [
       "False"
      ]
     },
     "execution_count": 385,
     "metadata": {},
     "output_type": "execute_result"
    }
   ],
   "source": [
    "# false because it returns a singular value\n",
    "a = x[0, 0]\n",
    "np.shares_memory(a,x)"
   ]
  },
  {
   "cell_type": "code",
   "execution_count": 386,
   "metadata": {
    "hidden": true
   },
   "outputs": [
    {
     "data": {
      "text/plain": [
       "True"
      ]
     },
     "execution_count": 386,
     "metadata": {},
     "output_type": "execute_result"
    }
   ],
   "source": [
    "a = x[:, 0]\n",
    "np.shares_memory(a,x)"
   ]
  },
  {
   "cell_type": "code",
   "execution_count": 388,
   "metadata": {
    "hidden": true
   },
   "outputs": [
    {
     "data": {
      "text/plain": [
       "False"
      ]
     },
     "execution_count": 388,
     "metadata": {},
     "output_type": "execute_result"
    }
   ],
   "source": [
    "# false - mathematical operation\n",
    "a = x[:, 0] + np.array([-1, -2, -3])\n",
    "np.shares_memory(a,x)"
   ]
  },
  {
   "cell_type": "code",
   "execution_count": 389,
   "metadata": {
    "hidden": true
   },
   "outputs": [
    {
     "data": {
      "text/plain": [
       "False"
      ]
     },
     "execution_count": 389,
     "metadata": {},
     "output_type": "execute_result"
    }
   ],
   "source": [
    "# false - copy\n",
    "a = np.copy(x[:, 0])\n",
    "np.shares_memory(a,x)"
   ]
  },
  {
   "cell_type": "code",
   "execution_count": 390,
   "metadata": {
    "hidden": true
   },
   "outputs": [
    {
     "data": {
      "text/plain": [
       "True"
      ]
     },
     "execution_count": 390,
     "metadata": {},
     "output_type": "execute_result"
    }
   ],
   "source": [
    "a = x[np.newaxis]\n",
    "np.shares_memory(a,x)"
   ]
  },
  {
   "cell_type": "code",
   "execution_count": 391,
   "metadata": {
    "hidden": true
   },
   "outputs": [
    {
     "data": {
      "text/plain": [
       "True"
      ]
     },
     "execution_count": 391,
     "metadata": {},
     "output_type": "execute_result"
    }
   ],
   "source": [
    "a = x.reshape(2, 3, 2)\n",
    "np.shares_memory(a,x)"
   ]
  },
  {
   "cell_type": "code",
   "execution_count": 387,
   "metadata": {
    "hidden": true
   },
   "outputs": [
    {
     "data": {
      "text/plain": [
       "False"
      ]
     },
     "execution_count": 387,
     "metadata": {},
     "output_type": "execute_result"
    }
   ],
   "source": [
    "# false because mathematical operations creates a copy\n",
    "a = 2 + x\n",
    "np.shares_memory(a,x)"
   ]
  },
  {
   "cell_type": "code",
   "execution_count": 400,
   "metadata": {
    "hidden": true
   },
   "outputs": [
    {
     "data": {
      "text/plain": [
       "array([0, 1, 2, 3])"
      ]
     },
     "execution_count": 400,
     "metadata": {},
     "output_type": "execute_result"
    }
   ],
   "source": [
    "y = x[0, :]; y"
   ]
  },
  {
   "cell_type": "code",
   "execution_count": 395,
   "metadata": {
    "hidden": true
   },
   "outputs": [
    {
     "data": {
      "text/plain": [
       "True"
      ]
     },
     "execution_count": 395,
     "metadata": {},
     "output_type": "execute_result"
    }
   ],
   "source": [
    "y[:] = y + 2\n",
    "np.shares_memory(y,x)"
   ]
  },
  {
   "cell_type": "code",
   "execution_count": 396,
   "metadata": {
    "hidden": true
   },
   "outputs": [
    {
     "data": {
      "text/plain": [
       "array([[ 2,  3,  4,  5],\n",
       "       [ 4,  5,  6,  7],\n",
       "       [ 8,  9, 10, 11]])"
      ]
     },
     "execution_count": 396,
     "metadata": {},
     "output_type": "execute_result"
    }
   ],
   "source": [
    "x"
   ]
  },
  {
   "cell_type": "code",
   "execution_count": 403,
   "metadata": {
    "hidden": true
   },
   "outputs": [
    {
     "data": {
      "text/plain": [
       "False"
      ]
     },
     "execution_count": 403,
     "metadata": {},
     "output_type": "execute_result"
    }
   ],
   "source": [
    "x = np.square(x)\n",
    "np.shares_memory(y,x)"
   ]
  },
  {
   "cell_type": "markdown",
   "metadata": {
    "heading_collapsed": true,
    "hidden": true
   },
   "source": [
    "## Advanced Indexing"
   ]
  },
  {
   "cell_type": "code",
   "execution_count": 404,
   "metadata": {
    "hidden": true
   },
   "outputs": [],
   "source": [
    "y = np.array([ 0, -1, -2, -3, -4, -5])"
   ]
  },
  {
   "cell_type": "code",
   "execution_count": 406,
   "metadata": {
    "hidden": true
   },
   "outputs": [
    {
     "data": {
      "text/plain": [
       "array([-1])"
      ]
     },
     "execution_count": 406,
     "metadata": {},
     "output_type": "execute_result"
    }
   ],
   "source": [
    "y[[1]]\n",
    "# array([-1])"
   ]
  },
  {
   "cell_type": "code",
   "execution_count": 409,
   "metadata": {
    "hidden": true
   },
   "outputs": [
    {
     "data": {
      "text/plain": [
       "array([-1, -2, -1, -2])"
      ]
     },
     "execution_count": 409,
     "metadata": {},
     "output_type": "execute_result"
    }
   ],
   "source": [
    "y[[1,2,1,2]]\n",
    "# array([-1, -2, -1, -2])"
   ]
  },
  {
   "cell_type": "code",
   "execution_count": 410,
   "metadata": {
    "hidden": true
   },
   "outputs": [
    {
     "data": {
      "text/plain": [
       "array([[ 0, -5],\n",
       "       [-1, -4]])"
      ]
     },
     "execution_count": 410,
     "metadata": {},
     "output_type": "execute_result"
    }
   ],
   "source": [
    "y[np.array([[0,-1],[1,-2]])]\n",
    "# array([[ 0, -5],\n",
    "#        [-1, -4]])"
   ]
  },
  {
   "cell_type": "code",
   "execution_count": 411,
   "metadata": {
    "hidden": true
   },
   "outputs": [
    {
     "data": {
      "text/plain": [
       "array([[-2],\n",
       "       [-3],\n",
       "       [-2]])"
      ]
     },
     "execution_count": 411,
     "metadata": {},
     "output_type": "execute_result"
    }
   ],
   "source": [
    "y[np.array([[2],[3],[2]])]\n",
    "# array([[-2],\n",
    "#        [-3],\n",
    "#        [-2]])"
   ]
  },
  {
   "cell_type": "code",
   "execution_count": 430,
   "metadata": {
    "hidden": true
   },
   "outputs": [
    {
     "data": {
      "text/plain": [
       "array([[[ 0,  1,  2,  3],\n",
       "        [ 4,  5,  6,  7],\n",
       "        [ 8,  9, 10, 11]],\n",
       "\n",
       "       [[12, 13, 14, 15],\n",
       "        [16, 17, 18, 19],\n",
       "        [20, 21, 22, 23]]])"
      ]
     },
     "execution_count": 430,
     "metadata": {},
     "output_type": "execute_result"
    }
   ],
   "source": [
    "z = np.arange(24).reshape(2,3,4); z"
   ]
  },
  {
   "cell_type": "code",
   "execution_count": 429,
   "metadata": {
    "hidden": true
   },
   "outputs": [
    {
     "data": {
      "text/plain": [
       "array([ 3, 23,  4])"
      ]
     },
     "execution_count": 429,
     "metadata": {},
     "output_type": "execute_result"
    }
   ],
   "source": [
    "z[(0,1,0),(0,2,1),(3,3,0)]  # sheet, rows, cols\n",
    "# array([ 3, 23,  4])"
   ]
  },
  {
   "cell_type": "code",
   "execution_count": 434,
   "metadata": {
    "hidden": true
   },
   "outputs": [
    {
     "data": {
      "text/plain": [
       "array([[ 0,  5, 10],\n",
       "       [12, 17, 22]])"
      ]
     },
     "execution_count": 434,
     "metadata": {},
     "output_type": "execute_result"
    }
   ],
   "source": [
    "a = np.array([0,0,0,1,1,1]).reshape(2,3)  # sheets\n",
    "b = np.array([0,1,2,0,1,2]).reshape(2,3)  # rows (and cols)\n",
    "z[a,b,b]\n",
    "# array([[ 0,  5, 10],\n",
    "#        [12, 17, 22]])"
   ]
  },
  {
   "cell_type": "code",
   "execution_count": 433,
   "metadata": {
    "hidden": true
   },
   "outputs": [
    {
     "data": {
      "text/plain": [
       "array([[ 0, 23],\n",
       "       [23,  0]])"
      ]
     },
     "execution_count": 433,
     "metadata": {},
     "output_type": "execute_result"
    }
   ],
   "source": [
    "a = np.array([0,1,1,0]).reshape(2,2)  # sheets\n",
    "b = np.array([0,2,2,0]).reshape(2,2)  # rows\n",
    "c = np.array([0,3,3,0]).reshape(2,2)  # cols\n",
    "z[a,b,c]\n",
    "# array([[ 0, 23],\n",
    "#        [23,  0]])"
   ]
  },
  {
   "cell_type": "code",
   "execution_count": 435,
   "metadata": {
    "hidden": true
   },
   "outputs": [],
   "source": [
    "h = np.array([[ 0.01,  0.03,  0.1 ,  0.25],\n",
    "              [ 0.38,  0.22,  0.15,  0.34],\n",
    "              [-0.29,  0.13, -0.26,  0.33]])"
   ]
  },
  {
   "cell_type": "code",
   "execution_count": 441,
   "metadata": {
    "hidden": true
   },
   "outputs": [
    {
     "data": {
      "text/plain": [
       "array([-0.29, -0.26])"
      ]
     },
     "execution_count": 441,
     "metadata": {},
     "output_type": "execute_result"
    }
   ],
   "source": [
    "# All negative entries in h\n",
    "mask = h < 0\n",
    "h[mask]"
   ]
  },
  {
   "cell_type": "code",
   "execution_count": 467,
   "metadata": {
    "hidden": true
   },
   "outputs": [
    {
     "data": {
      "text/plain": [
       "array([0.01, 0.33])"
      ]
     },
     "execution_count": 467,
     "metadata": {},
     "output_type": "execute_result"
    }
   ],
   "source": [
    "# All entries in h “equal” to 0.01 or 0.33\n",
    "mask = np.isclose(h, 0.01) | np.isclose(h, 0.33)  # need to use '|' instead of 'or' here\n",
    "# mask = np.logical_or(np.isclose(h, 0.01),np.isclose(h, 0.33))  # equivalent to above\n",
    "h[mask]"
   ]
  },
  {
   "cell_type": "code",
   "execution_count": 447,
   "metadata": {
    "hidden": true
   },
   "outputs": [
    {
     "data": {
      "text/plain": [
       "array([0.25, 0.22, 0.15, 0.13])"
      ]
     },
     "execution_count": 447,
     "metadata": {},
     "output_type": "execute_result"
    }
   ],
   "source": [
    "mask = (0.1 < h) & (h < 0.3)\n",
    "h[mask]\n",
    "# All entries of h that fall within the domain `(0.1, 0.3)"
   ]
  },
  {
   "cell_type": "code",
   "execution_count": null,
   "metadata": {
    "hidden": true
   },
   "outputs": [],
   "source": []
  },
  {
   "cell_type": "code",
   "execution_count": 448,
   "metadata": {
    "hidden": true
   },
   "outputs": [],
   "source": [
    "b = np.array([[False, False,  True],\n",
    "              [False,  True, False],\n",
    "              [ True,  True, False]], dtype=bool)"
   ]
  },
  {
   "cell_type": "code",
   "execution_count": 449,
   "metadata": {
    "hidden": true
   },
   "outputs": [
    {
     "data": {
      "text/plain": [
       "(array([0, 1, 2, 2]), array([2, 1, 0, 1]))"
      ]
     },
     "execution_count": 449,
     "metadata": {},
     "output_type": "execute_result"
    }
   ],
   "source": [
    "np.where(b)"
   ]
  },
  {
   "cell_type": "code",
   "execution_count": null,
   "metadata": {
    "hidden": true
   },
   "outputs": [],
   "source": []
  },
  {
   "cell_type": "code",
   "execution_count": 458,
   "metadata": {
    "hidden": true
   },
   "outputs": [],
   "source": [
    "x = np.array([[ 0.58,  0.05,  0.84,  0.21],\n",
    "              [ 0.88,  0.98,  0.45,  0.13],\n",
    "              [ 0.1 ,  0.52,  0.58,  0.38],\n",
    "              [ 0.84,  0.76,  0.25,  0.07]])"
   ]
  },
  {
   "cell_type": "code",
   "execution_count": 459,
   "metadata": {
    "hidden": true
   },
   "outputs": [
    {
     "data": {
      "text/plain": [
       "array([[0.  , 0.05, 1.84, 0.21],\n",
       "       [1.88, 2.  , 0.45, 0.13],\n",
       "       [0.1 , 0.52, 3.  , 0.38],\n",
       "       [1.84, 0.76, 0.25, 4.  ]])"
      ]
     },
     "execution_count": 459,
     "metadata": {},
     "output_type": "execute_result"
    }
   ],
   "source": [
    "# Replace the diagonal elements of x with (0, 1, 2, 3), and add 1 to all values in x that are greater than 0.8.\n",
    "a = np.array([0,1,2,3])\n",
    "x[a,a] = a\n",
    "\n",
    "x[x>0.8] += 1\n",
    "x"
   ]
  },
  {
   "cell_type": "code",
   "execution_count": 460,
   "metadata": {
    "hidden": true
   },
   "outputs": [
    {
     "data": {
      "text/plain": [
       "array([[[ 0,  1,  2,  3],\n",
       "        [ 4,  5,  6,  7],\n",
       "        [ 8,  9, 10, 11]],\n",
       "\n",
       "       [[12, 13, 14, 15],\n",
       "        [16, 17, 18, 19],\n",
       "        [20, 21, 22, 23]]])"
      ]
     },
     "execution_count": 460,
     "metadata": {},
     "output_type": "execute_result"
    }
   ],
   "source": [
    "z = np.arange(24).reshape(2,3,4); z"
   ]
  },
  {
   "cell_type": "code",
   "execution_count": 466,
   "metadata": {
    "hidden": true
   },
   "outputs": [
    {
     "data": {
      "text/plain": [
       "array([[ True,  True,  True]])"
      ]
     },
     "execution_count": 466,
     "metadata": {},
     "output_type": "execute_result"
    }
   ],
   "source": [
    "ind0 = np.array([True, False])\n",
    "z[ind0, :, -1]  #== z[np.newaxis, 0, :, -1]"
   ]
  },
  {
   "cell_type": "markdown",
   "metadata": {
    "heading_collapsed": true,
    "hidden": true
   },
   "source": [
    "## Problems"
   ]
  },
  {
   "cell_type": "code",
   "execution_count": 481,
   "metadata": {
    "hidden": true
   },
   "outputs": [],
   "source": [
    "def classification_accuracy(classification_scores, true_labels):\n",
    "    \"\"\"\n",
    "    Returns the fractional classification accuracy for a batch of N predictions.\n",
    "\n",
    "    Parameters\n",
    "    ----------\n",
    "    classification_scores : numpy.ndarray, shape=(N, K)\n",
    "        The scores for K classes, for a batch of N pieces of data\n",
    "        (e.g. images).\n",
    "    true_labels : numpy.ndarray, shape=(N,)\n",
    "        The true label for each datum in the batch: each label is an\n",
    "        integer in the domain [0, K).\n",
    "\n",
    "    Returns\n",
    "    -------\n",
    "    float\n",
    "        (num_correct) / N\n",
    "    \"\"\"\n",
    "    return np.mean(np.argmax(classification_scores, axis=1) == true_labels)"
   ]
  },
  {
   "cell_type": "code",
   "execution_count": 468,
   "metadata": {
    "hidden": true
   },
   "outputs": [],
   "source": [
    "scores = np.array([[ 30,   1,  10,  80],  # prediction: other\n",
    "                   [-10,  20,   0,  -5],  # prediction: dog\n",
    "                   [ 27,  50,   9,  30],  # prediction: dog\n",
    "                   [ -1,   0,  84,   3],  # prediction: goose\n",
    "                   [  5,   2,  10,   0]]) # prediction: goose"
   ]
  },
  {
   "cell_type": "code",
   "execution_count": 472,
   "metadata": {
    "hidden": true
   },
   "outputs": [
    {
     "data": {
      "text/plain": [
       "array([3, 1, 1, 2, 2])"
      ]
     },
     "execution_count": 472,
     "metadata": {},
     "output_type": "execute_result"
    }
   ],
   "source": [
    "np.argmax(scores, axis=1)"
   ]
  },
  {
   "cell_type": "code",
   "execution_count": 469,
   "metadata": {
    "hidden": true
   },
   "outputs": [],
   "source": [
    "labels = np.array([0, 1, 1, 2, 3])"
   ]
  },
  {
   "cell_type": "code",
   "execution_count": 482,
   "metadata": {
    "hidden": true
   },
   "outputs": [
    {
     "data": {
      "text/plain": [
       "0.6"
      ]
     },
     "execution_count": 482,
     "metadata": {},
     "output_type": "execute_result"
    }
   ],
   "source": [
    "classification_accuracy(scores, labels)"
   ]
  },
  {
   "cell_type": "code",
   "execution_count": 515,
   "metadata": {
    "hidden": true
   },
   "outputs": [
    {
     "data": {
      "text/plain": [
       "array([[ 0.34981601, -0.48602281],\n",
       "       [ 0.69954967, -0.9207756 ],\n",
       "       [ 0.27490038, -0.06399694],\n",
       "       ...,\n",
       "       [-0.80749059,  0.73446806],\n",
       "       [ 0.17202805, -0.74075391],\n",
       "       [ 0.72457348, -0.72756614]])"
      ]
     },
     "execution_count": 515,
     "metadata": {},
     "output_type": "execute_result"
    }
   ],
   "source": [
    "# estimate pi by counting ratio of random points within a circle circumscribed by a square\n",
    "pts = np.random.rand(10000,2)\n",
    "pts = pts * 2 - 1   # need numbers between -1 and 1\n",
    "pts"
   ]
  },
  {
   "cell_type": "code",
   "execution_count": 516,
   "metadata": {
    "hidden": true,
    "scrolled": true
   },
   "outputs": [
    {
     "data": {
      "text/plain": [
       "3.144"
      ]
     },
     "execution_count": 516,
     "metadata": {},
     "output_type": "execute_result"
    }
   ],
   "source": [
    "# calculate it all in one go\n",
    "np.mean(np.sqrt(np.sum(pts**2, axis=1)) < 1) * 4"
   ]
  },
  {
   "cell_type": "code",
   "execution_count": 517,
   "metadata": {
    "hidden": true,
    "scrolled": true
   },
   "outputs": [],
   "source": [
    "# sqrt of sum of squares\n",
    "np.sqrt(np.sum(pts**2, axis=1))\n",
    "\n",
    "# equivalent to the above\n",
    "np.linalg.norm(pts, axis=1)  # Frobenius norm"
   ]
  },
  {
   "cell_type": "code",
   "execution_count": 518,
   "metadata": {
    "hidden": true
   },
   "outputs": [],
   "source": [
    "# calculate cumulatively\n",
    "in_circle = np.cumsum(np.sqrt(np.sum(pts**2, axis=1)) < 1)\n",
    "thrown = np.arange(1,10001)\n",
    "running_estimate = (in_circle/thrown) * 4"
   ]
  },
  {
   "cell_type": "code",
   "execution_count": 521,
   "metadata": {
    "hidden": true
   },
   "outputs": [
    {
     "data": {
      "image/png": "[encoded data removed]",
      "text/plain": [
       "<Figure size 432x288 with 1 Axes>"
      ]
     },
     "metadata": {
      "needs_background": "light"
     },
     "output_type": "display_data"
    }
   ],
   "source": [
    "import matplotlib.pyplot as plt\n",
    "%matplotlib inline\n",
    "\n",
    "fig, ax = plt.subplots()\n",
    "\n",
    "ax.plot(thrown, running_estimate);\n",
    "ax.hlines(y=np.pi, xmin=1, xmax=10001, linestyles=\"--\")  # horizontal line at true value of pi\n",
    "ax.set_xscale(\"log\")\n",
    "\n",
    "ax.set_ylabel(r\"Estimated value of $\\pi$\")\n",
    "ax.set_xlabel(\"Number of randomly-thrown darts (log-scale)\")\n",
    "ax.grid(True)"
   ]
  },
  {
   "cell_type": "code",
   "execution_count": 523,
   "metadata": {
    "hidden": true
   },
   "outputs": [
    {
     "data": {
      "text/plain": [
       "(100, 10000, 2)"
      ]
     },
     "execution_count": 523,
     "metadata": {},
     "output_type": "execute_result"
    }
   ],
   "source": [
    "# simulate the process of throwing 𝑁=10,000 over 𝑀=100 independent trials. For each dart thrown,\n",
    "# compute the average estimated value of 𝜋 across the 𝑀 trials along with the standard deviation across them. \n",
    "# Plot this mean curve along with the mean + std-dev upper-bound and mean - std-dev lower-bound curves.\n",
    "\n",
    "M = 100\n",
    "N = 10000\n",
    "pts = np.random.rand(M,N,2)\n",
    "pts = pts * 2 - 1   # need numbers between -1 and 1\n",
    "pts.shape"
   ]
  },
  {
   "cell_type": "code",
   "execution_count": 537,
   "metadata": {
    "hidden": true
   },
   "outputs": [],
   "source": [
    "# calculate cumulatively\n",
    "dist = np.linalg.norm(pts, axis=2)\n",
    "in_circle = np.cumsum(dist < 1, axis=1)\n",
    "thrown = np.arange(1,N+1)\n",
    "running_estimate = (in_circle/thrown) * 4"
   ]
  },
  {
   "cell_type": "code",
   "execution_count": 540,
   "metadata": {
    "hidden": true
   },
   "outputs": [],
   "source": [
    "m = running_estimate.mean(axis=0)\n",
    "s = running_estimate.std(axis=0)"
   ]
  },
  {
   "cell_type": "code",
   "execution_count": 543,
   "metadata": {
    "hidden": true
   },
   "outputs": [
    {
     "data": {
      "image/png": "[encoded data removed]",
      "text/plain": [
       "<Figure size 432x288 with 1 Axes>"
      ]
     },
     "metadata": {
      "needs_background": "light"
     },
     "output_type": "display_data"
    }
   ],
   "source": [
    "fig, ax = plt.subplots()\n",
    "\n",
    "ax.plot(thrown, m, 'b', label='mean')\n",
    "ax.fill_between(thrown, y1=m-s, y2=m+s, alpha=0.2, label=\"standard deviation\")\n",
    "ax.hlines(y=np.pi, xmin=1, xmax=N+1, linestyles=\"--\")  # horizontal line at true value of pi\n",
    "ax.set_xscale(\"log\")\n",
    "\n",
    "ax.set_ylabel(r\"Estimated value of $\\pi$\")\n",
    "ax.set_xlabel(\"Number of randomly-thrown darts (log-scale)\")\n",
    "ax.grid(True)\n",
    "ax.legend();"
   ]
  },
  {
   "cell_type": "markdown",
   "metadata": {
    "heading_collapsed": true
   },
   "source": [
    "# Object Oriented Programming"
   ]
  },
  {
   "cell_type": "markdown",
   "metadata": {
    "heading_collapsed": true,
    "hidden": true
   },
   "source": [
    "## Classes"
   ]
  },
  {
   "cell_type": "code",
   "execution_count": 544,
   "metadata": {
    "hidden": true
   },
   "outputs": [],
   "source": [
    "# Create a definition for the class of object named Dog.\n",
    "# This class should have two attributes: “name” and “speak”.\n",
    "# The “name” attribute should bind a string to the object (the name of the dog).\n",
    "# The “speak” attribute should be a method, that takes a string as an input argument\n",
    "# and returns that string with \"*woof*\" added to either end of it (e.g. \"hello\" -> \"*woof* hello *woof*\")\n",
    "\n",
    "class Dog:\n",
    "    name = \"otis\"\n",
    "    \n",
    "    def speak(st):\n",
    "        return f\"*woof* {st} *woof*\""
   ]
  },
  {
   "cell_type": "code",
   "execution_count": 547,
   "metadata": {
    "hidden": true
   },
   "outputs": [],
   "source": [
    "setattr(Dog, \"fluffy\", True)"
   ]
  },
  {
   "cell_type": "code",
   "execution_count": 549,
   "metadata": {
    "hidden": true
   },
   "outputs": [
    {
     "data": {
      "text/plain": [
       "'Lab'"
      ]
     },
     "execution_count": 549,
     "metadata": {},
     "output_type": "execute_result"
    }
   ],
   "source": [
    "Dog.breed = \"Lab\"\n",
    "Dog.breed"
   ]
  },
  {
   "cell_type": "code",
   "execution_count": null,
   "metadata": {
    "hidden": true
   },
   "outputs": [],
   "source": [
    "# Using the Dummy class defined above, create a list consisting of 10 distinct instances of this type.\n",
    "# Write code to explicitly verify that each entry is distinct from the other,\n",
    "# and that each entry is an instance of the Dummy class.\n",
    "\n",
    "# Then, create a tuple that contains a single instance of Dummy stored ten times.\n",
    "# Write code to explicitly verify that the entries all reference the exact same object,\n",
    "# and that each entry is an instance of the Dummy class."
   ]
  },
  {
   "cell_type": "code",
   "execution_count": 550,
   "metadata": {
    "hidden": true
   },
   "outputs": [],
   "source": [
    "class Dummy:\n",
    "    x=1"
   ]
  },
  {
   "cell_type": "code",
   "execution_count": 553,
   "metadata": {
    "hidden": true
   },
   "outputs": [
    {
     "name": "stdout",
     "output_type": "stream",
     "text": [
      "True\n",
      "True\n",
      "True\n",
      "True\n",
      "True\n",
      "True\n",
      "True\n",
      "True\n",
      "True\n",
      "True\n"
     ]
    }
   ],
   "source": [
    "diff_dummys = [Dummy() for i in range(10)]\n",
    "for i, dummy in enumerate(diff_dummys):\n",
    "    print(isinstance(dummy, Dummy) and dummy is not diff_dummys[i-1])"
   ]
  },
  {
   "cell_type": "code",
   "execution_count": 566,
   "metadata": {
    "hidden": true
   },
   "outputs": [
    {
     "name": "stdout",
     "output_type": "stream",
     "text": [
      "True\n",
      "True\n",
      "True\n",
      "True\n",
      "True\n",
      "True\n",
      "True\n",
      "True\n",
      "True\n",
      "True\n"
     ]
    }
   ],
   "source": [
    "dummy = Dummy()\n",
    "same_dummys = tuple(dummy for i in range(10))\n",
    "for i, dummy in enumerate(same_dummys):\n",
    "    print(isinstance(dummy, Dummy) and dummy is same_dummys[i-1])"
   ]
  },
  {
   "cell_type": "code",
   "execution_count": null,
   "metadata": {
    "hidden": true
   },
   "outputs": [],
   "source": [
    "# Rewrite Dummy so that its instance method func accepts two arguments: the instance object that\n",
    "# Python automatically passes and the argument x, which we want func to return unchanged.\n",
    "# Create an instance of Dummy and call func from this instance and pass it the string \"hi\",\n",
    "# what will be returned? What will happen if you try to call Dummy.func(\"hi\")? Why?\n",
    "# How can we modify this call from Dummy itself so that the method will work as desired?"
   ]
  },
  {
   "cell_type": "code",
   "execution_count": 588,
   "metadata": {
    "hidden": true
   },
   "outputs": [],
   "source": [
    "class Dummy():    \n",
    "    def func(self, x):\n",
    "        return x\n",
    "    \n",
    "    @classmethod    # this decorator tells python to automatically pass in the class even if called from an instance\n",
    "    def class_func(cls):\n",
    "        return cls\n",
    "    \n",
    "    @staticmethod   # this decorator tells python not to automatically pass anything\n",
    "    def static_func(s='hi'):\n",
    "        return str(s)"
   ]
  },
  {
   "cell_type": "code",
   "execution_count": 589,
   "metadata": {
    "hidden": true
   },
   "outputs": [
    {
     "data": {
      "text/plain": [
       "'hi'"
      ]
     },
     "execution_count": 589,
     "metadata": {},
     "output_type": "execute_result"
    }
   ],
   "source": [
    "d = Dummy()\n",
    "d.func('hi')"
   ]
  },
  {
   "cell_type": "code",
   "execution_count": 580,
   "metadata": {
    "hidden": true
   },
   "outputs": [
    {
     "data": {
      "text/plain": [
       "'hi'"
      ]
     },
     "execution_count": 580,
     "metadata": {},
     "output_type": "execute_result"
    }
   ],
   "source": [
    "Dummy.func(Dummy, 'hi') # or None or int or tuple...  any class will do"
   ]
  },
  {
   "cell_type": "code",
   "execution_count": 586,
   "metadata": {
    "hidden": true
   },
   "outputs": [
    {
     "data": {
      "text/plain": [
       "__main__.Dummy"
      ]
     },
     "execution_count": 586,
     "metadata": {},
     "output_type": "execute_result"
    }
   ],
   "source": [
    "d.class_func()"
   ]
  },
  {
   "cell_type": "code",
   "execution_count": 587,
   "metadata": {
    "hidden": true
   },
   "outputs": [
    {
     "data": {
      "text/plain": [
       "'4'"
      ]
     },
     "execution_count": 587,
     "metadata": {},
     "output_type": "execute_result"
    }
   ],
   "source": [
    "d.static_func(4)"
   ]
  },
  {
   "cell_type": "code",
   "execution_count": 590,
   "metadata": {
    "hidden": true
   },
   "outputs": [
    {
     "data": {
      "text/plain": [
       "'hi'"
      ]
     },
     "execution_count": 590,
     "metadata": {},
     "output_type": "execute_result"
    }
   ],
   "source": [
    "d.static_func()"
   ]
  },
  {
   "cell_type": "code",
   "execution_count": 600,
   "metadata": {
    "hidden": true
   },
   "outputs": [
    {
     "data": {
      "text/plain": [
       "'a̶'"
      ]
     },
     "execution_count": 600,
     "metadata": {},
     "output_type": "execute_result"
    }
   ],
   "source": [
    "'a'+'\\u0336'"
   ]
  },
  {
   "cell_type": "code",
   "execution_count": 604,
   "metadata": {
    "hidden": true
   },
   "outputs": [],
   "source": [
    "def strike(text):\n",
    "    \"\"\" Renders string with strike-through characters through it.\n",
    "\n",
    "        `strike('hello world')` -> '̶h̶e̶l̶l̶o̶ ̶w̶o̶r̶l̶d'\n",
    "\n",
    "        Notes\n",
    "        -----\n",
    "        \\u0336 is a special strike-through unicode character; it\n",
    "        is not unique to Python.\"\"\"\n",
    "    return ''.join(['{}\\u0336'.format(c) for c in text])\n",
    "\n",
    "class ShoppingList:\n",
    "    def __init__(self, items):\n",
    "        self._needed = set(items)\n",
    "        self._purchased = set()\n",
    "\n",
    "    def __repr__(self):\n",
    "        \"\"\" Returns formatted shopping list as a string with\n",
    "            purchased items being crossed out.\n",
    "\n",
    "            Returns\n",
    "            -------\n",
    "            str\"\"\"\n",
    "        if self._needed or self._purchased:\n",
    "            remaining_items = [str(i) for i in self._needed]\n",
    "            purchased_items = [strike(str(i)) for i in self._purchased]\n",
    "            # You wont find the • character on your keyboard. I simply\n",
    "            # googled \"unicode bullet point\" and copied/pasted it here.\n",
    "            return \"• \" + \"\\n• \".join(remaining_items + purchased_items)\n",
    "\n",
    "    def add_new_items(self, items):\n",
    "        self._needed.update(items)\n",
    "\n",
    "    def mark_purchased_items(self, items):\n",
    "        self._purchased.update(set(items) & self._needed)\n",
    "        self._needed.difference_update(self._purchased)"
   ]
  },
  {
   "cell_type": "code",
   "execution_count": 605,
   "metadata": {
    "hidden": true
   },
   "outputs": [],
   "source": [
    "def __add__(self, other):\n",
    "    \"\"\" Add the unpurchased and purchased items from another shopping\n",
    "        list to the present one.\n",
    "\n",
    "        Parameters\n",
    "        ----------\n",
    "        other : ShoppingList\n",
    "            The shopping list whose items we will add to the present one.\n",
    "        Returns\n",
    "        -------\n",
    "        ShoppingList\n",
    "            The present shopping list, with items added to it.\"\"\"\n",
    "    new_list = ShoppingList([])\n",
    "    # populate new_list with items from `self` and `other`\n",
    "    for l in [self, other]:\n",
    "        new_list.add_new_items(l._needed)\n",
    "\n",
    "        # add purchased items to list, then mark as purchased\n",
    "        new_list.add_new_items(l._purchased)\n",
    "        new_list.mark_purchased_items(l._purchased)\n",
    "    return new_list\n",
    "\n",
    "setattr(ShoppingList, \"__add__\", __add__)"
   ]
  },
  {
   "cell_type": "code",
   "execution_count": 606,
   "metadata": {
    "hidden": true
   },
   "outputs": [
    {
     "data": {
      "text/plain": [
       "• milk\n",
       "• eggs\n",
       "• f̶l̶o̶u̶r̶\n",
       "• s̶a̶l̶t̶"
      ]
     },
     "execution_count": 606,
     "metadata": {},
     "output_type": "execute_result"
    }
   ],
   "source": [
    "food = ShoppingList([\"milk\", \"flour\", \"salt\", \"eggs\"])\n",
    "food.mark_purchased_items([\"flour\", \"salt\"])\n",
    "food"
   ]
  },
  {
   "cell_type": "code",
   "execution_count": 607,
   "metadata": {
    "hidden": true
   },
   "outputs": [
    {
     "data": {
      "text/plain": [
       "• staples\n",
       "• pens\n",
       "• p̶e̶n̶c̶i̶l̶s̶"
      ]
     },
     "execution_count": 607,
     "metadata": {},
     "output_type": "execute_result"
    }
   ],
   "source": [
    "office_supplies = ShoppingList([\"staples\", \"pens\", \"pencils\"])\n",
    "office_supplies.mark_purchased_items([\"pencils\"])\n",
    "office_supplies"
   ]
  },
  {
   "cell_type": "code",
   "execution_count": 608,
   "metadata": {
    "hidden": true
   },
   "outputs": [
    {
     "data": {
      "text/plain": [
       "• socks\n",
       "• t-shirts"
      ]
     },
     "execution_count": 608,
     "metadata": {},
     "output_type": "execute_result"
    }
   ],
   "source": [
    "clothes = ShoppingList([\"t-shirts\", \"socks\"])\n",
    "clothes"
   ]
  },
  {
   "cell_type": "code",
   "execution_count": 609,
   "metadata": {
    "hidden": true
   },
   "outputs": [
    {
     "data": {
      "text/plain": [
       "• staples\n",
       "• milk\n",
       "• t-shirts\n",
       "• socks\n",
       "• eggs\n",
       "• pens\n",
       "• f̶l̶o̶u̶r̶\n",
       "• p̶e̶n̶c̶i̶l̶s̶\n",
       "• s̶a̶l̶t̶"
      ]
     },
     "execution_count": 609,
     "metadata": {},
     "output_type": "execute_result"
    }
   ],
   "source": [
    "# combine all three shopping lists\n",
    "food + office_supplies + clothes"
   ]
  },
  {
   "cell_type": "markdown",
   "metadata": {},
   "source": [
    "# Odds and Ends"
   ]
  },
  {
   "cell_type": "markdown",
   "metadata": {},
   "source": [
    "## Matplotlib"
   ]
  },
  {
   "cell_type": "code",
   "execution_count": 629,
   "metadata": {},
   "outputs": [
    {
     "data": {
      "image/png": "[encoded data removed]",
      "text/plain": [
       "<Figure size 1152x432 with 6 Axes>"
      ]
     },
     "metadata": {
      "needs_background": "light"
     },
     "output_type": "display_data"
    }
   ],
   "source": [
    "# demonstrating wide range of functionality controlled\n",
    "# by the axes object.\n",
    "\n",
    "# create a figure with multiple axes\n",
    "fig, axs = plt.subplots(2, 3, figsize=(16, 6)) # 6 axes on a 2x3 grid\n",
    "# note that we could also use tuple unpacking for our axes:\n",
    "# fig, (ax1, ax2, ax3, ax4, ax5, ax6) = plt.subplots(2, 3)\n",
    "\n",
    "\n",
    "# the domain of x-values on which we evaluate\n",
    "# our functions\n",
    "x = np.linspace(0, 4*np.pi, 1000)\n",
    "\n",
    "# row-0, col-0: plot y = x**2\n",
    "axs[0, 0].plot(x, x**2, linestyle='--', color='orange')\n",
    "\n",
    "# row-0, col-1: plot y = sin(x)\n",
    "axs[0, 1].plot(x, np.sin(x), color='green')\n",
    "\n",
    "# row-0, col-2:  plot y = cos(x)\n",
    "axs[0, 2].plot(x, np.cos(x), linestyle=':')\n",
    "\n",
    "# row-1, col-0:  plot y = exp(x)\n",
    "axs[1, 0].plot(x, np.exp(x), color='red', linestyle='-.')\n",
    "\n",
    "# row-1, col-1:  plot y = sqrt(x)\n",
    "axs[1, 1].plot(x, np.sqrt(x))\n",
    "\n",
    "# row-1, col-2:  plot y = x\n",
    "axs[1, 2].plot(x, np.log(x+1e-9), color='purple');  # +1e-9: prevent division by zero error"
   ]
  },
  {
   "cell_type": "code",
   "execution_count": 671,
   "metadata": {},
   "outputs": [
    {
     "data": {
      "image/png": "[encoded data removed]",
      "text/plain": [
       "<Figure size 1152x144 with 2 Axes>"
      ]
     },
     "metadata": {
      "needs_background": "light"
     },
     "output_type": "display_data"
    }
   ],
   "source": [
    "# Use pyplot.subplots to create a figure with two subplots that are aligned side-by-side \n",
    "# (i.e. they reside in two columns). In the left subplot, plot 𝑓(𝑥)=𝑒−𝑥 using 100 points on the domain [0,1].\n",
    "# In the right subplot, plot 𝑓(𝑥)=𝑥2 on whatever domain you’d like, using a green line.\n",
    "\n",
    "fig,axs = plt.subplots(1,2, figsize=(16,2))\n",
    "\n",
    "x = np.linspace(0,1,100)\n",
    "\n",
    "axs[0].plot(x, np.exp(-x))\n",
    "\n",
    "axs[1].plot(x, x**2, color='green');"
   ]
  },
  {
   "cell_type": "code",
   "execution_count": 638,
   "metadata": {},
   "outputs": [
    {
     "data": {
      "image/png": "[encoded data removed]",
      "text/plain": [
       "<Figure size 1152x576 with 6 Axes>"
      ]
     },
     "metadata": {
      "needs_background": "light"
     },
     "output_type": "display_data"
    }
   ],
   "source": [
    "# demonstrating a variety of plot-types\n",
    "fig, axs = plt.subplots(nrows=2, ncols=3, figsize=(16,8))\n",
    "\n",
    "################# Plot (0, 0) ##########################\n",
    "# Demonstrating setting the y-axis to a log scale\n",
    "x = np.linspace(0, 4, 1000)\n",
    "y = x**2\n",
    "axs[0, 0].plot(x, y, linestyle='--', color='red', label=r'$x^2$')\n",
    "axs[0, 0].plot(x, np.exp(x), linestyle='--', color='blue', label=r'$e^x$')\n",
    "axs[0, 0].set_yscale(\"log\")\n",
    "axs[0, 0].legend()\n",
    "\n",
    "\n",
    "################# Plot (0, 1) ##########################\n",
    "# Demonstrating `ax.fill_between`, and `alpha`\n",
    "x = np.linspace(0, 10, 1000)\n",
    "y = np.sqrt(x)\n",
    "err_lower, err_upper = np.random.random((2, 1000))*0.2  # create the error bars\n",
    "axs[0, 1].plot(x, y)\n",
    "\n",
    "# fill between: (y - err_lower) and (y + err_upper)\n",
    "# alpha indicates a meaure of opaqueness to a color: 0.2 makes the\n",
    "# filled region semi-transparent\n",
    "axs[0, 1].fill_between(x, y-err_lower, y+err_upper, color='C0', alpha=0.2)\n",
    "\n",
    "\n",
    "################# Plot (0, 2) ##########################\n",
    "# Demonstrating an errorbar plot\n",
    "x = np.arange(10)\n",
    "y = np.sqrt(x)\n",
    "\n",
    "# each y has an associated lower and upper error bound,\n",
    "# separated by row in a 2D array\n",
    "yerr = np.random.random((2, 10))\n",
    "axs[0, 2].errorbar(x, y, yerr, color=\"C2\")\n",
    "\n",
    "\n",
    "################# Plot (1, 0) ##########################\n",
    "# Demonstrating a scatter plot\n",
    "x = np.arange(10)\n",
    "y = np.random.random(10)\n",
    "axs[1, 0].scatter(x, y, marker='x')\n",
    "axs[1, 0].scatter(x, 1-y, marker='o')\n",
    "\n",
    "\n",
    "################# Plot (1, 1) ##########################\n",
    "# Demonstrating a historgram\n",
    "# Draw 1000 numbers from Gaussian distribution,\n",
    "# stored in shape-(1000,) numpy array.\n",
    "data = np.random.randn(1000)\n",
    "# Display the data in a 50-bin histogram.\n",
    "axs[1, 1].hist(data, bins=50)\n",
    "\n",
    "\n",
    "################# Plot (1, 2) ##########################\n",
    "# Plotting the entries of a 2D array as an image.\n",
    "\n",
    "# random 10x10 array with lower \"half\" set to 0\n",
    "matrix = np.triu(np.random.rand(10, 10))\n",
    "axs[1, 2].imshow(matrix);"
   ]
  },
  {
   "cell_type": "code",
   "execution_count": 672,
   "metadata": {},
   "outputs": [
    {
     "data": {
      "image/png": "[encoded data removed]",
      "text/plain": [
       "<Figure size 1152x432 with 1 Axes>"
      ]
     },
     "metadata": {
      "needs_background": "light"
     },
     "output_type": "display_data"
    }
   ],
   "source": [
    "# Plot the sine function with an amplitude of 1, 2, 4, and 8, respectively, all on the same subplot\n",
    "# (e.g. 2sin𝑥 is the sine function with an amplitude of 2) on the domain [−𝜋,𝜋]. Label the x-axis as \"x [radians]\".\n",
    "# Save this figure as “sine_waves.png”. Go and open this png-file and verify that it looks as you would expect.\n",
    "\n",
    "fig,ax = plt.subplots()\n",
    "\n",
    "x = np.linspace(-np.pi, np.pi, 100)\n",
    "for amp in [1,2,4,8]:\n",
    "    ax.plot(x, amp*np.sin(x), label=str(amp))\n",
    "\n",
    "ax.set_xlabel(\"x [radians]\")\n",
    "ax.set_title(\"Sine waves of different amplitudes\")\n",
    "ax.grid(True)\n",
    "ax.legend();\n",
    "\n",
    "fig.savefig('sine_waves.png')"
   ]
  },
  {
   "cell_type": "code",
   "execution_count": 670,
   "metadata": {},
   "outputs": [
    {
     "data": {
      "text/plain": [
       "<matplotlib.image.AxesImage at 0x7ffb25f53810>"
      ]
     },
     "execution_count": 670,
     "metadata": {},
     "output_type": "execute_result"
    },
    {
     "data": {
      "image/png": "[encoded data removed]",
      "text/plain": [
       "<Figure size 1152x432 with 1 Axes>"
      ]
     },
     "metadata": {
      "needs_background": "light"
     },
     "output_type": "display_data"
    }
   ],
   "source": [
    "im = plt.imread(\"sine_waves.png\")\n",
    "plt.imshow(im)"
   ]
  },
  {
   "cell_type": "code",
   "execution_count": 667,
   "metadata": {},
   "outputs": [],
   "source": [
    "# globally set figsize\n",
    "plt.rcParams['figure.figsize'] = (16, 6)"
   ]
  },
  {
   "cell_type": "code",
   "execution_count": 669,
   "metadata": {},
   "outputs": [
    {
     "data": {
      "image/png": "[encoded data removed]",
      "text/plain": [
       "<Figure size 1152x432 with 2 Axes>"
      ]
     },
     "metadata": {
      "needs_background": "light"
     },
     "output_type": "display_data"
    }
   ],
   "source": [
    "# generate and display a grayscale image\n",
    "fig, (ax1, ax2) = plt.subplots(nrows=2)\n",
    "\n",
    "# create a linear ramp from 0-100 along a shape-25 array,\n",
    "# then broadcast this to a shape-(15, 25) array\n",
    "my_image = np.broadcast_to(np.linspace(0, 100, 25), (4, 25))\n",
    "ax1.imshow(my_image, cmap=\"gray\")\n",
    "ax2.imshow(my_image, cmap=\"viridis\");"
   ]
  },
  {
   "cell_type": "markdown",
   "metadata": {},
   "source": [
    "## Imports"
   ]
  },
  {
   "cell_type": "code",
   "execution_count": 673,
   "metadata": {},
   "outputs": [],
   "source": [
    "%load_ext autoreload\n",
    "%autoreload 2\n",
    "\n",
    "# actively reload all imported modules and packages as they are modified"
   ]
  },
  {
   "cell_type": "code",
   "execution_count": 674,
   "metadata": {},
   "outputs": [
    {
     "name": "stdout",
     "output_type": "stream",
     "text": [
      "I am being executed!\n"
     ]
    }
   ],
   "source": [
    "import my_module"
   ]
  },
  {
   "cell_type": "code",
   "execution_count": 677,
   "metadata": {},
   "outputs": [
    {
     "data": {
      "text/plain": [
       "['a', 1, None]"
      ]
     },
     "execution_count": 677,
     "metadata": {},
     "output_type": "execute_result"
    }
   ],
   "source": [
    "my_module.some_list"
   ]
  },
  {
   "cell_type": "code",
   "execution_count": 678,
   "metadata": {},
   "outputs": [
    {
     "data": {
      "text/plain": [
       "16"
      ]
     },
     "execution_count": 678,
     "metadata": {},
     "output_type": "execute_result"
    }
   ],
   "source": [
    "my_module.square(4)"
   ]
  },
  {
   "cell_type": "code",
   "execution_count": 680,
   "metadata": {},
   "outputs": [
    {
     "name": "stdout",
     "output_type": "stream",
     "text": [
      "Help on module my_module:\n",
      "\n",
      "NAME\n",
      "    my_module - My first python module\n",
      "\n",
      "FUNCTIONS\n",
      "    cube(n)\n",
      "    \n",
      "    square(n)\n",
      "\n",
      "DATA\n",
      "    some_list = ['a', 1, None]\n",
      "\n",
      "FILE\n",
      "    /Users/adamschiller/Projects/DeepLearning/Experiments/my_module.py\n",
      "\n",
      "\n"
     ]
    }
   ],
   "source": [
    "help(my_module)"
   ]
  },
  {
   "cell_type": "code",
   "execution_count": null,
   "metadata": {},
   "outputs": [],
   "source": []
  }
 ],
 "metadata": {
  "kernelspec": {
   "display_name": "Python [conda env:pytorch_1.4] *",
   "language": "python",
   "name": "conda-env-pytorch_1.4-py"
  },
  "language_info": {
   "codemirror_mode": {
    "name": "ipython",
    "version": 3
   },
   "file_extension": ".py",
   "mimetype": "text/x-python",
   "name": "python",
   "nbconvert_exporter": "python",
   "pygments_lexer": "ipython3",
   "version": "3.7.6"
  },
  "toc": {
   "base_numbering": 1,
   "nav_menu": {},
   "number_sections": true,
   "sideBar": true,
   "skip_h1_title": false,
   "title_cell": "Table of Contents",
   "title_sidebar": "Contents",
   "toc_cell": false,
   "toc_position": {},
   "toc_section_display": true,
   "toc_window_display": false
  },
  "varInspector": {
   "cols": {
    "lenName": 16,
    "lenType": 16,
    "lenVar": 40
   },
   "kernels_config": {
    "python": {
     "delete_cmd_postfix": "",
     "delete_cmd_prefix": "del ",
     "library": "var_list.py",
     "varRefreshCmd": "print(var_dic_list())"
    },
    "r": {
     "delete_cmd_postfix": ") ",
     "delete_cmd_prefix": "rm(",
     "library": "var_list.r",
     "varRefreshCmd": "cat(var_dic_list()) "
    }
   },
   "types_to_exclude": [
    "module",
    "function",
    "builtin_function_or_method",
    "instance",
    "_Feature"
   ],
   "window_display": false
  }
 },
 "nbformat": 4,
 "nbformat_minor": 4
}
