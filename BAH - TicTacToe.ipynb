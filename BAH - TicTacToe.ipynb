{
 "cells": [
  {
   "cell_type": "code",
   "execution_count": 17,
   "metadata": {},
   "outputs": [],
   "source": [
    "from collections import defaultdict\n",
    "\n",
    "# O(1) time\n",
    "class TicTacToe(object):\n",
    "    def __init__(self, n):\n",
    "        self.board_size = n\n",
    "        self.rows = defaultdict(int)\n",
    "        self.cols = defaultdict(int)\n",
    "        self.diags = defaultdict(int)\n",
    "\n",
    "    def move(self, player, row, col):\n",
    "        \"\"\"\n",
    "        Args:\n",
    "            player (int): 1 for X-player, -1 for O-player\n",
    "            row (int): index of the row the move was made in\n",
    "            col (int): index of the column the move was made in\n",
    "\n",
    "        Returns:\n",
    "            win (bool): True is the player wins, False if not\n",
    "        \"\"\"\n",
    "        self.rows[row] += player  # defaultdict(int) allows immediate += without setting value\n",
    "        self.cols[col] += player\n",
    "        if row==col:\n",
    "            self.diags[1] += player\n",
    "        if row == (self.board_size-col-1):\n",
    "            self.diags[-1] += player\n",
    "    \n",
    "        return (abs(self.rows[row]) == self.board_size or abs(self.cols[col]) == self.board_size or\n",
    "               abs(self.diags[1]) == self.board_size or abs(self.diags[-1]) == self.board_size)"
   ]
  },
  {
   "cell_type": "code",
   "execution_count": 16,
   "metadata": {},
   "outputs": [],
   "source": [
    "import numpy as np\n",
    "\n",
    "# O(n) time\n",
    "class TicTacToe(object):\n",
    "    def __init__(self, n):\n",
    "        self.board_size = n\n",
    "        self.board = np.zeros((n,n))\n",
    "    \n",
    "    def move(self, player, row, col):\n",
    "        \"\"\"\n",
    "        Args:\n",
    "            player (int): 1 for X-player, -1 for O-player\n",
    "            row (int): index of the row the move was made in\n",
    "            col (int): index of the column the move was made in\n",
    "\n",
    "        Returns:\n",
    "            win (bool): True is the player wins, False if not\n",
    "        \"\"\"\n",
    "        self.board[row,col] = player\n",
    "        \n",
    "        backwards = np.all([self.board[i, self.board_size-1-i]==player for i in range(self.board_size)])\n",
    "        \n",
    "        return np.all(np.diag(self.board)==player) or np.all(self.board[row,:]==player) or \\\n",
    "               np.all(self.board[:,col]==player) or backwards"
   ]
  },
  {
   "cell_type": "code",
   "execution_count": 6,
   "metadata": {},
   "outputs": [
    {
     "name": "stdout",
     "output_type": "stream",
     "text": [
      "False\n",
      "False\n",
      "True\n"
     ]
    }
   ],
   "source": [
    "# reverse diagonal\n",
    "t = TicTacToe(3)\n",
    "for r,c in zip([0,1,2],[2,1,0]):\n",
    "    print(t.move(1,r,c))"
   ]
  },
  {
   "cell_type": "code",
   "execution_count": 82,
   "metadata": {},
   "outputs": [
    {
     "name": "stdout",
     "output_type": "stream",
     "text": [
      "False\n",
      "False\n",
      "True\n"
     ]
    }
   ],
   "source": [
    "# diagonal\n",
    "t = TicTacToe(3)\n",
    "for r,c in zip([0,1,2],[0,1,2]):\n",
    "    print(t.move(1,r,c))"
   ]
  },
  {
   "cell_type": "code",
   "execution_count": 83,
   "metadata": {},
   "outputs": [
    {
     "name": "stdout",
     "output_type": "stream",
     "text": [
      "False\n",
      "False\n",
      "True\n"
     ]
    }
   ],
   "source": [
    "# column\n",
    "t = TicTacToe(3)\n",
    "for r,c in zip([0,1,2],[1,1,1]):\n",
    "    print(t.move(1,r,c))"
   ]
  },
  {
   "cell_type": "code",
   "execution_count": 84,
   "metadata": {},
   "outputs": [
    {
     "name": "stdout",
     "output_type": "stream",
     "text": [
      "False\n",
      "False\n",
      "True\n"
     ]
    }
   ],
   "source": [
    "# row\n",
    "t = TicTacToe(3)\n",
    "for r,c in zip([1,1,1],[0,1,2]):\n",
    "    print(t.move(1,r,c))"
   ]
  },
  {
   "cell_type": "code",
   "execution_count": null,
   "metadata": {},
   "outputs": [],
   "source": []
  }
 ],
 "metadata": {
  "kernelspec": {
   "display_name": "Python [conda env:pytorch_1.4] *",
   "language": "python",
   "name": "conda-env-pytorch_1.4-py"
  },
  "language_info": {
   "codemirror_mode": {
    "name": "ipython",
    "version": 3
   },
   "file_extension": ".py",
   "mimetype": "text/x-python",
   "name": "python",
   "nbconvert_exporter": "python",
   "pygments_lexer": "ipython3",
   "version": "3.7.6"
  },
  "toc": {
   "base_numbering": 1,
   "nav_menu": {},
   "number_sections": true,
   "sideBar": true,
   "skip_h1_title": false,
   "title_cell": "Table of Contents",
   "title_sidebar": "Contents",
   "toc_cell": false,
   "toc_position": {},
   "toc_section_display": true,
   "toc_window_display": false
  },
  "varInspector": {
   "cols": {
    "lenName": 16,
    "lenType": 16,
    "lenVar": 40
   },
   "kernels_config": {
    "python": {
     "delete_cmd_postfix": "",
     "delete_cmd_prefix": "del ",
     "library": "var_list.py",
     "varRefreshCmd": "print(var_dic_list())"
    },
    "r": {
     "delete_cmd_postfix": ") ",
     "delete_cmd_prefix": "rm(",
     "library": "var_list.r",
     "varRefreshCmd": "cat(var_dic_list()) "
    }
   },
   "types_to_exclude": [
    "module",
    "function",
    "builtin_function_or_method",
    "instance",
    "_Feature"
   ],
   "window_display": false
  }
 },
 "nbformat": 4,
 "nbformat_minor": 4
}
